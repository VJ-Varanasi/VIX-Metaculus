{
 "cells": [
  {
   "cell_type": "code",
   "execution_count": 1,
   "metadata": {},
   "outputs": [],
   "source": [
    "import pandas as pd\n",
    "import numpy as np\n",
    "import datetime\n",
    "import re"
   ]
  },
  {
   "cell_type": "code",
   "execution_count": 2,
   "metadata": {},
   "outputs": [],
   "source": [
    "data = pd.read_csv(\"Data/Analytics_master.csv\")\n",
    "data = data.drop(\"Date Range\", axis = 1)\n",
    "\n",
    "\n"
   ]
  },
  {
   "cell_type": "code",
   "execution_count": 3,
   "metadata": {},
   "outputs": [
    {
     "data": {
      "text/html": [
       "<div>\n",
       "<style scoped>\n",
       "    .dataframe tbody tr th:only-of-type {\n",
       "        vertical-align: middle;\n",
       "    }\n",
       "\n",
       "    .dataframe tbody tr th {\n",
       "        vertical-align: top;\n",
       "    }\n",
       "\n",
       "    .dataframe thead th {\n",
       "        text-align: right;\n",
       "    }\n",
       "</style>\n",
       "<table border=\"1\" class=\"dataframe\">\n",
       "  <thead>\n",
       "    <tr style=\"text-align: right;\">\n",
       "      <th></th>\n",
       "      <th>Hour Index</th>\n",
       "      <th>Segment</th>\n",
       "      <th>Users</th>\n",
       "      <th>New Users</th>\n",
       "    </tr>\n",
       "  </thead>\n",
       "  <tbody>\n",
       "    <tr>\n",
       "      <th>132384</th>\n",
       "      <td>NaN</td>\n",
       "      <td>All Users</td>\n",
       "      <td>1,326,148</td>\n",
       "      <td>675,030</td>\n",
       "    </tr>\n",
       "    <tr>\n",
       "      <th>132385</th>\n",
       "      <td>NaN</td>\n",
       "      <td>New Users</td>\n",
       "      <td>691,047</td>\n",
       "      <td>675,030</td>\n",
       "    </tr>\n",
       "    <tr>\n",
       "      <th>132386</th>\n",
       "      <td>NaN</td>\n",
       "      <td>Search Traffic</td>\n",
       "      <td>528,552</td>\n",
       "      <td>330,444</td>\n",
       "    </tr>\n",
       "    <tr>\n",
       "      <th>132387</th>\n",
       "      <td>NaN</td>\n",
       "      <td>Organic Traffic</td>\n",
       "      <td>520,224</td>\n",
       "      <td>323,199</td>\n",
       "    </tr>\n",
       "  </tbody>\n",
       "</table>\n",
       "</div>"
      ],
      "text/plain": [
       "        Hour Index          Segment      Users New Users\n",
       "132384         NaN        All Users  1,326,148   675,030\n",
       "132385         NaN        New Users    691,047   675,030\n",
       "132386         NaN   Search Traffic    528,552   330,444\n",
       "132387         NaN  Organic Traffic    520,224   323,199"
      ]
     },
     "execution_count": 3,
     "metadata": {},
     "output_type": "execute_result"
    }
   ],
   "source": [
    "user_data = data.iloc[0:-4, ]\n",
    "data_sum = data.iloc[-4:, ]\n",
    "data_sum"
   ]
  },
  {
   "cell_type": "code",
   "execution_count": 4,
   "metadata": {},
   "outputs": [
    {
     "name": "stderr",
     "output_type": "stream",
     "text": [
      "/var/folders/rz/8ns_4y5958ldxyg1ckf2wd0c0000gn/T/ipykernel_20355/2792641055.py:1: SettingWithCopyWarning: \n",
      "A value is trying to be set on a copy of a slice from a DataFrame.\n",
      "Try using .loc[row_indexer,col_indexer] = value instead\n",
      "\n",
      "See the caveats in the documentation: https://pandas.pydata.org/pandas-docs/stable/user_guide/indexing.html#returning-a-view-versus-a-copy\n",
      "  user_data[\"New Users\"]= user_data[\"New Users\"].str.replace(\",\", \"\",regex = True)\n",
      "/var/folders/rz/8ns_4y5958ldxyg1ckf2wd0c0000gn/T/ipykernel_20355/2792641055.py:2: SettingWithCopyWarning: \n",
      "A value is trying to be set on a copy of a slice from a DataFrame.\n",
      "Try using .loc[row_indexer,col_indexer] = value instead\n",
      "\n",
      "See the caveats in the documentation: https://pandas.pydata.org/pandas-docs/stable/user_guide/indexing.html#returning-a-view-versus-a-copy\n",
      "  user_data[\"Users\"] = user_data[\"Users\"].str.replace(\",\", \"\",regex = True)\n"
     ]
    }
   ],
   "source": [
    "user_data[\"New Users\"]= user_data[\"New Users\"].str.replace(\",\", \"\",regex = True) \n",
    "user_data[\"Users\"] = user_data[\"Users\"].str.replace(\",\", \"\",regex = True) "
   ]
  },
  {
   "cell_type": "code",
   "execution_count": 5,
   "metadata": {},
   "outputs": [],
   "source": [
    "start_date = \"1/1/2019\"\n",
    "date_1 =datetime.datetime.strptime(start_date, \"%m/%d/%Y\")\n",
    "times =  [ date_1 + datetime.timedelta(days= s //24, hours = s%24) for s in user_data[\"Hour Index\"].tolist()] \n",
    "\n",
    "user_data.insert(0, \"Time\", pd.Series(times))\n",
    "user_data=user_data.drop(\"Hour Index\", axis = 1)"
   ]
  },
  {
   "cell_type": "code",
   "execution_count": 6,
   "metadata": {},
   "outputs": [],
   "source": [
    "All = user_data[user_data[\"Segment\"] == \"All Users\"].drop(\"Segment\", axis =1)\n",
    "New = user_data[user_data[\"Segment\"] == \"New Users\"].drop(\"Segment\", axis =1)\n",
    "Search = user_data[user_data[\"Segment\"] == \"Search Traffic\"].drop(\"Segment\", axis =1)\n",
    "Organic= user_data[user_data[\"Segment\"] == \"Organic Traffic\"].drop(\"Segment\", axis =1)"
   ]
  },
  {
   "cell_type": "code",
   "execution_count": 7,
   "metadata": {},
   "outputs": [],
   "source": [
    "All\n",
    "All.to_csv(\"Data/All_Metaculus_Users_2022-10-10.csv\", index = False)"
   ]
  },
  {
   "cell_type": "code",
   "execution_count": 8,
   "metadata": {},
   "outputs": [],
   "source": [
    "New\n",
    "New.to_csv(\"Data/New_Metaculus_Users_2022-10-10.csv\", index = False)"
   ]
  },
  {
   "cell_type": "code",
   "execution_count": 9,
   "metadata": {},
   "outputs": [],
   "source": [
    "Search\n",
    "Search.to_csv(\"Data/Search_Metaculus_Users_2022-10-10.csv\", index = False)"
   ]
  },
  {
   "cell_type": "code",
   "execution_count": 10,
   "metadata": {},
   "outputs": [],
   "source": [
    "Organic\n",
    "Organic.to_csv(\"Data/Organic_Metaculus_Users_2022-10-10.csv\", index = False)"
   ]
  }
 ],
 "metadata": {
  "kernelspec": {
   "display_name": "Python 3.8.8 ('venv-3.8-pAhcsra2')",
   "language": "python",
   "name": "python3"
  },
  "language_info": {
   "codemirror_mode": {
    "name": "ipython",
    "version": 3
   },
   "file_extension": ".py",
   "mimetype": "text/x-python",
   "name": "python",
   "nbconvert_exporter": "python",
   "pygments_lexer": "ipython3",
   "version": "3.8.8"
  },
  "orig_nbformat": 4,
  "vscode": {
   "interpreter": {
    "hash": "7bf0f0e42995efe4767549cbb7289084ca9269106150d550f3a3ac1b4214bc6f"
   }
  }
 },
 "nbformat": 4,
 "nbformat_minor": 2
}
