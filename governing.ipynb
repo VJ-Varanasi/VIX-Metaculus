{
 "cells": [
  {
   "cell_type": "code",
   "execution_count": 2,
   "metadata": {},
   "outputs": [],
   "source": [
    "import numpy as np\n",
    "import matplotlib.pyplot as plt\n",
    "import pandas as pd\n",
    "from sklearn.linear_model import Lasso\n",
    "from sklearn.linear_model import LinearRegression\n",
    "import glob\n",
    "from IPython.display import Latex\n",
    "import IPython\n",
    "import re\n"
   ]
  },
  {
   "cell_type": "code",
   "execution_count": 3,
   "metadata": {},
   "outputs": [],
   "source": [
    "start_date = \"2020-01-12\"\n",
    "end_date = \"2022-10-23\"\n",
    "\n",
    "return_scale = 1"
   ]
  },
  {
   "attachments": {},
   "cell_type": "markdown",
   "metadata": {},
   "source": [
    "## VIX Data"
   ]
  },
  {
   "cell_type": "code",
   "execution_count": 4,
   "metadata": {},
   "outputs": [],
   "source": [
    "d1_name =\"Data/VIX_History*\"\n",
    "d1_filename = glob.glob(d1_name)[0]\n",
    "d1= pd.read_csv(d1_filename)\n",
    "\n",
    "d1.columns = d1.columns.str.upper()\n",
    "d1['DATE'] = pd.to_datetime(d1[\"DATE\"])\n",
    "d1= d1.set_index(\"DATE\")\n",
    "\n",
    "d1[\"RETURNS\"] = d1[\"CLOSE\"] - d1[\"CLOSE\"].shift(return_scale)\n",
    "d1=d1.dropna()\n",
    "\n",
    "\n",
    "\n",
    "d1_week = d1.resample(\"1W\").sum()\n",
    "d1.index=d1.index.strftime('%Y-%m-%d')\n",
    "\n",
    "\n",
    "\n",
    "vix = d1.loc[start_date:end_date]\n",
    "vix_week = d1_week[start_date:end_date]\n",
    "\n",
    "returns = vix[[\"RETURNS\"]]\n",
    "week_returns = vix_week[[\"RETURNS\"]]\n",
    "\n",
    "vix = vix[[\"CLOSE\"]]\n",
    "vix.columns = [\"VIX\"]\n",
    "vix_week = vix_week[[\"CLOSE\"]]\n",
    "vix_week.columns = [\"VIX\"]"
   ]
  },
  {
   "attachments": {},
   "cell_type": "markdown",
   "metadata": {},
   "source": [
    "## Metaculus Data"
   ]
  },
  {
   "cell_type": "code",
   "execution_count": 5,
   "metadata": {},
   "outputs": [],
   "source": [
    "d2_name =\"Data/2_Day_Smooth_Metaculus_Users_*\"\n",
    "d2_filename = glob.glob(d2_name)[0]\n",
    "d2= pd.read_csv(d2_filename)\n",
    "d2.columns = d2.columns.str.upper()\n",
    "d2['DATE'] = pd.to_datetime(d2[\"DATE\"])\n",
    "d2= d2.set_index(\"DATE\")\n",
    "d2.columns = [\"META\"]\n",
    "d2_week = d2.resample(\"1W\").sum()\n",
    "\n",
    "\n",
    "metaculus = d2.loc[start_date:end_date]\n",
    "metaculus_week = d2_week.loc[start_date:end_date]\n",
    "\n",
    "\n"
   ]
  },
  {
   "attachments": {},
   "cell_type": "markdown",
   "metadata": {},
   "source": [
    "## Idealized Stream"
   ]
  },
  {
   "cell_type": "code",
   "execution_count": 6,
   "metadata": {},
   "outputs": [],
   "source": [
    "partial_name = f'Data/Idealized*'\n",
    "filename = glob.glob(partial_name)[0]\n",
    "d1= pd.read_csv(filename)\n",
    "\n",
    "d1['DATE'] = pd.to_datetime(d1[\"DATE\"])\n",
    "d1= d1.set_index(\"DATE\")\n",
    "d1_week = d1.resample(\"1W\").sum()\n",
    "d1.index=d1.index.strftime('%Y-%m-%d')\n",
    "\n",
    "\n",
    "stream = d1.loc[start_date:end_date][\"CLOSE\"]\n",
    "stream_week = d1_week[start_date:end_date]"
   ]
  },
  {
   "attachments": {},
   "cell_type": "markdown",
   "metadata": {},
   "source": [
    "## Governing Function"
   ]
  },
  {
   "cell_type": "code",
   "execution_count": 7,
   "metadata": {},
   "outputs": [],
   "source": [
    "def governing_eq(data, response, lags, power = 5, alphas= 20):\n",
    "    alphas = np.geomspace(1e-2,1e-1, 20)\n",
    "\n",
    "    reg_data= response.copy()\n",
    "\n",
    "\n",
    "    for i in range(len(data)):\n",
    "        for k in lags[i]:\n",
    "            col_name =  data[i].columns[0]\n",
    "            df = data[i].shift(k)\n",
    "            for j in range(power):\n",
    "                reg_data[str(k) + \"_LAG_\" + col_name +\"_\"+str(j+1)] = df[col_name]**(j+1)\n",
    "\n",
    "    reg_data = reg_data.dropna()\n",
    "\n",
    "    X = reg_data.iloc[:,1:]\n",
    "    Y = reg_data[\"RETURNS\"]\n",
    "\n",
    "    X_norm = X.copy()\n",
    "    for i in X.columns:    \n",
    "        X_norm[i] =(X[i] - X[i].mean()) / X[i].std() \n",
    "\n",
    "    Y_norm = (Y - Y.mean()) / Y.std() \n",
    "\n",
    "    max_score = 0\n",
    "    opt_alpha = 0\n",
    "    opt_terms = []\n",
    "    opt_coef = {}\n",
    "\n",
    "    for i in alphas:\n",
    "        lassoreg = Lasso(alpha=i)\n",
    "        lassoreg.fit(X_norm,Y_norm)\n",
    "        coefs= lassoreg.coef_\n",
    "        mask = coefs!=0\n",
    "        lin_X = X.loc[:, mask]\n",
    "        if not lin_X.empty:\n",
    "            linreg = LinearRegression().fit(lin_X, Y)\n",
    "            score = linreg.score(lin_X,Y)\n",
    "            if score > max_score:\n",
    "                opt_alpha = i\n",
    "                opt_terms = lin_X.columns\n",
    "                opt_coef = linreg.coef_\n",
    "                max_score = score\n",
    "    \n",
    "    print(\"Max Score: {}\".format(max_score))\n",
    "\n",
    "    output = \"\"\n",
    "    pat = r'.*?_(.*)_.*'\n",
    "\n",
    "    for i in range(len(opt_terms)):\n",
    "        lag = opt_terms[i].split('_')[0]\n",
    "        power = opt_terms[i][-1]\n",
    "        val = opt_terms[i].split('_')[2]\n",
    "        \n",
    "        if i != 0 and opt_coef[i] > 0:\n",
    "            output += \"+ \"\n",
    "        output +=  \"{:.2e} \\cdot {}_{{Lag: {} }}^{}\".format(opt_coef[i], val, lag, power)\n",
    "\n",
    "    IPython.display.display(Latex(f\"\"\"\\\\begin{{equation*}}\n",
    "    {output}\n",
    "    \\\\end{{equation*}}\n",
    "    \"\"\"))\n",
    "    \n",
    "    return opt_coef, opt_terms"
   ]
  },
  {
   "attachments": {},
   "cell_type": "markdown",
   "metadata": {},
   "source": [
    "## Parameters"
   ]
  },
  {
   "cell_type": "code",
   "execution_count": null,
   "metadata": {},
   "outputs": [],
   "source": [
    "\n",
    "data = [vix, metaculus, stream]\n",
    "met_lags = np.arange(10,15)\n",
    "vix_lags= np.arange(25,30)\n",
    "\n",
    "lags = [vix_lags, met_lags]"
   ]
  },
  {
   "cell_type": "code",
   "execution_count": 13,
   "metadata": {},
   "outputs": [
    {
     "name": "stdout",
     "output_type": "stream",
     "text": [
      "Max Score: 0.019371392928780984\n"
     ]
    },
    {
     "data": {
      "text/latex": [
       "\\begin{equation*}\n",
       "    -2.95e-07 \\cdot VIX_{Lag: 25 }^1-6.62e-06 \\cdot VIX_{Lag: 26 }^3+ 1.27e-07 \\cdot VIX_{Lag: 26 }^4-6.53e-06 \\cdot VIX_{Lag: 27 }^2-1.84e-09 \\cdot VIX_{Lag: 28 }^5+ 7.60e-07 \\cdot VIX_{Lag: 29 }^3+ 4.16e-08 \\cdot VIX_{Lag: 29 }^4-3.41e-04 \\cdot META_{Lag: 10 }^1+ 8.68e-16 \\cdot META_{Lag: 11 }^4-4.91e-20 \\cdot META_{Lag: 12 }^5-1.37e-04 \\cdot META_{Lag: 13 }^1+ 6.08e-08 \\cdot META_{Lag: 13 }^2\n",
       "    \\end{equation*}\n",
       "    "
      ],
      "text/plain": [
       "<IPython.core.display.Latex object>"
      ]
     },
     "metadata": {},
     "output_type": "display_data"
    },
    {
     "data": {
      "text/plain": [
       "(array([-2.94728903e-07, -6.62178650e-06,  1.26647977e-07, -6.53453242e-06,\n",
       "        -1.84395004e-09,  7.59801288e-07,  4.16038316e-08, -3.41491395e-04,\n",
       "         8.68063878e-16, -4.91279109e-20, -1.37030742e-04,  6.07954412e-08]),\n",
       " Index(['25_LAG_VIX_1', '26_LAG_VIX_3', '26_LAG_VIX_4', '27_LAG_VIX_2',\n",
       "        '28_LAG_VIX_5', '29_LAG_VIX_3', '29_LAG_VIX_4', '10_LAG_META_1',\n",
       "        '11_LAG_META_4', '12_LAG_META_5', '13_LAG_META_1', '13_LAG_META_2'],\n",
       "       dtype='object'))"
      ]
     },
     "execution_count": 13,
     "metadata": {},
     "output_type": "execute_result"
    }
   ],
   "source": [
    "governing_eq(data, returns, lags, power = 5)"
   ]
  },
  {
   "cell_type": "code",
   "execution_count": 15,
   "metadata": {},
   "outputs": [
    {
     "name": "stdout",
     "output_type": "stream",
     "text": [
      "Max Score: 0.11165862294570572\n"
     ]
    },
    {
     "data": {
      "text/latex": [
       "\\begin{equation*}\n",
       "1.05e-03 \\cdot VIX_{Lag: 25 }^2+ 1.26e-03 \\cdot VIX_{Lag: 26 }^2-2.29e-09 \\cdot VIX_{Lag: 27 }^5+ 1.16e-03 \\cdot VIX_{Lag: 29 }^2+ 3.92e-04 \\cdot META_{Lag: 10 }^1-2.17e-19 \\cdot META_{Lag: 10 }^5+ 4.10e-04 \\cdot META_{Lag: 11 }^1+ 3.80e-04 \\cdot META_{Lag: 12 }^1-2.17e-19 \\cdot META_{Lag: 12 }^5+ 2.82e-04 \\cdot META_{Lag: 13 }^1-1.08e-19 \\cdot META_{Lag: 13 }^5\n",
       "\\end{equation*}\n"
      ],
      "text/plain": [
       "<IPython.core.display.Latex object>"
      ]
     },
     "metadata": {},
     "output_type": "display_data"
    }
   ],
   "source": [
    "\n",
    "data = [vix, metaculus]\n",
    "met_lags = np.arange(10,15)\n",
    "vix_lags= np.arange(25,30)\n",
    "\n",
    "lags = [vix_lags, met_lags]\n",
    "\n",
    "response = stream\n",
    "\n",
    "power = 5\n",
    "alphas= 20\n",
    "\n",
    "alphas = np.geomspace(1e-2,1e-1, 20)\n",
    "\n",
    "reg_data= response.copy()\n",
    "\n",
    "\n",
    "for i in range(len(data)):\n",
    "    for k in lags[i]:\n",
    "        col_name =  data[i].columns[0]\n",
    "        df = data[i].shift(k)\n",
    "        for j in range(power):\n",
    "            reg_data[str(k) + \"_LAG_\" + col_name +\"_\"+str(j+1)] = df[col_name]**(j+1)\n",
    "\n",
    "reg_data = reg_data.dropna()\n",
    "\n",
    "X = reg_data.iloc[:,1:]\n",
    "Y = reg_data[\"CLOSE\"]\n",
    "\n",
    "X_norm = X.copy()\n",
    "for i in X.columns:    \n",
    "    X_norm[i] =(X[i] - X[i].mean()) / X[i].std() \n",
    "\n",
    "Y_norm = (Y - Y.mean()) / Y.std() \n",
    "\n",
    "max_score = 0\n",
    "opt_alpha = 0\n",
    "opt_terms = []\n",
    "opt_coef = {}\n",
    "\n",
    "for i in alphas:\n",
    "    lassoreg = Lasso(alpha=i)\n",
    "    lassoreg.fit(X_norm,Y_norm)\n",
    "    coefs= lassoreg.coef_\n",
    "    mask = coefs!=0\n",
    "    lin_X = X.loc[:, mask]\n",
    "    if not lin_X.empty:\n",
    "        linreg = LinearRegression().fit(lin_X, Y)\n",
    "        score = linreg.score(lin_X,Y)\n",
    "        if score > max_score:\n",
    "            opt_alpha = i\n",
    "            opt_terms = lin_X.columns\n",
    "            opt_coef = linreg.coef_\n",
    "            max_score = score\n",
    "\n",
    "print(\"Max Score: {}\".format(max_score))\n",
    "\n",
    "output = \"\"\n",
    "pat = r'.*?_(.*)_.*'\n",
    "\n",
    "for i in range(len(opt_terms)):\n",
    "    lag = opt_terms[i].split('_')[0]\n",
    "    power = opt_terms[i][-1]\n",
    "    val = opt_terms[i].split('_')[2]\n",
    "    \n",
    "    if i != 0 and opt_coef[i] > 0:\n",
    "        output += \"+ \"\n",
    "    output +=  \"{:.2e} \\cdot {}_{{Lag: {} }}^{}\".format(opt_coef[i], val, lag, power)\n",
    "\n",
    "IPython.display.display(Latex(f\"\"\"\\\\begin{{equation*}}\n",
    "{output}\n",
    "\\\\end{{equation*}}\n",
    "\"\"\"))"
   ]
  },
  {
   "cell_type": "code",
   "execution_count": null,
   "metadata": {},
   "outputs": [],
   "source": []
  }
 ],
 "metadata": {
  "kernelspec": {
   "display_name": "venv-3.8-pAhcsra2",
   "language": "python",
   "name": "python3"
  },
  "language_info": {
   "codemirror_mode": {
    "name": "ipython",
    "version": 3
   },
   "file_extension": ".py",
   "mimetype": "text/x-python",
   "name": "python",
   "nbconvert_exporter": "python",
   "pygments_lexer": "ipython3",
   "version": "3.8.8 (v3.8.8:024d8058b0, Feb 19 2021, 08:48:17) \n[Clang 6.0 (clang-600.0.57)]"
  },
  "orig_nbformat": 4,
  "vscode": {
   "interpreter": {
    "hash": "7bf0f0e42995efe4767549cbb7289084ca9269106150d550f3a3ac1b4214bc6f"
   }
  }
 },
 "nbformat": 4,
 "nbformat_minor": 2
}
