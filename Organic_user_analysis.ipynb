{
 "cells": [
  {
   "cell_type": "code",
   "execution_count": 1,
   "metadata": {},
   "outputs": [],
   "source": [
    "from time import strftime\n",
    "import matplotlib.pyplot as plt\n",
    "import numpy as np\n",
    "import pandas as pd\n",
    "import glob\n",
    "from statsmodels.tsa.seasonal import seasonal_decompose\n",
    "from statsmodels.tsa.stattools import adfuller\n",
    "from pandas.plotting import autocorrelation_plot\n",
    "import datetime \n",
    "import re\n",
    "import matplotlib.ticker as ticker\n",
    "import matplotlib.dates as mdates\n",
    "from math import factorial\n",
    "from scipy.signal import savgol_filter\n",
    "from tabnanny import verbose\n",
    "import numpy as np\n",
    "import pandas as pd\n",
    "import glob\n",
    "import datetime \n",
    "from scipy import stats\n",
    "from sklearn.linear_model import Lasso\n",
    "import statsmodels.api as sm\n",
    "pd.options.mode.chained_assignment = None\n",
    "from fastdtw import fastdtw\n",
    "from scipy.spatial.distance import euclidean"
   ]
  },
  {
   "cell_type": "markdown",
   "metadata": {},
   "source": [
    "Defining Parameters"
   ]
  },
  {
   "cell_type": "code",
   "execution_count": 2,
   "metadata": {},
   "outputs": [],
   "source": [
    "return_scale = 1\n",
    "#Autocorrelation lags\n",
    "lags = 45\n",
    "lags_min = lags - lags\n",
    "start_date = \"2021-01-01\""
   ]
  },
  {
   "cell_type": "markdown",
   "metadata": {},
   "source": [
    "## VIX Data"
   ]
  },
  {
   "cell_type": "code",
   "execution_count": 3,
   "metadata": {},
   "outputs": [],
   "source": [
    "d1_name =\"Data/VIX_History*\"\n",
    "d1_filename = glob.glob(d1_name)[0]\n",
    "d1= pd.read_csv(d1_filename)\n",
    "d1[\"RETURNS\"] = d1[\"CLOSE\"] - d1[\"CLOSE\"].shift(return_scale)\n",
    "d1['DATE'] = pd.to_datetime(d1[\"DATE\"])\n",
    "d1 = d1.set_index(\"DATE\")\n",
    "d1=d1.dropna()"
   ]
  },
  {
   "cell_type": "code",
   "execution_count": 4,
   "metadata": {},
   "outputs": [],
   "source": [
    "d1_ret = d1[[\"RETURNS\"]]\n",
    "\n",
    "d1 = d1[[\"CLOSE\"]]\n"
   ]
  },
  {
   "cell_type": "markdown",
   "metadata": {},
   "source": [
    "## All User Data Processing"
   ]
  },
  {
   "cell_type": "markdown",
   "metadata": {},
   "source": [
    "Downloading Data"
   ]
  },
  {
   "cell_type": "code",
   "execution_count": 5,
   "metadata": {},
   "outputs": [],
   "source": [
    "partial_name = f'Data/Organic_Metaculus*'\n",
    "filename = glob.glob(partial_name)[0]\n",
    "df= pd.read_csv(filename, parse_dates=['Time'], index_col = ['Time'])\n",
    "df= df[df['Users'] != 0]\n",
    "X= df.index\n",
    "\n",
    "\n"
   ]
  },
  {
   "cell_type": "markdown",
   "metadata": {},
   "source": [
    "Plotting New and Total Users over Time"
   ]
  },
  {
   "cell_type": "markdown",
   "metadata": {},
   "source": [
    "Resampling data to daily cadence"
   ]
  },
  {
   "cell_type": "code",
   "execution_count": 6,
   "metadata": {},
   "outputs": [
    {
     "data": {
      "text/html": [
       "<div>\n",
       "<style scoped>\n",
       "    .dataframe tbody tr th:only-of-type {\n",
       "        vertical-align: middle;\n",
       "    }\n",
       "\n",
       "    .dataframe tbody tr th {\n",
       "        vertical-align: top;\n",
       "    }\n",
       "\n",
       "    .dataframe thead th {\n",
       "        text-align: right;\n",
       "    }\n",
       "</style>\n",
       "<table border=\"1\" class=\"dataframe\">\n",
       "  <thead>\n",
       "    <tr style=\"text-align: right;\">\n",
       "      <th></th>\n",
       "      <th>Users</th>\n",
       "      <th>New Users</th>\n",
       "    </tr>\n",
       "    <tr>\n",
       "      <th>DATE</th>\n",
       "      <th></th>\n",
       "      <th></th>\n",
       "    </tr>\n",
       "  </thead>\n",
       "  <tbody>\n",
       "    <tr>\n",
       "      <th>2021-01-01</th>\n",
       "      <td>1127</td>\n",
       "      <td>817</td>\n",
       "    </tr>\n",
       "    <tr>\n",
       "      <th>2021-01-02</th>\n",
       "      <td>1082</td>\n",
       "      <td>782</td>\n",
       "    </tr>\n",
       "    <tr>\n",
       "      <th>2021-01-03</th>\n",
       "      <td>1026</td>\n",
       "      <td>719</td>\n",
       "    </tr>\n",
       "    <tr>\n",
       "      <th>2021-01-04</th>\n",
       "      <td>1016</td>\n",
       "      <td>699</td>\n",
       "    </tr>\n",
       "    <tr>\n",
       "      <th>2021-01-05</th>\n",
       "      <td>1017</td>\n",
       "      <td>713</td>\n",
       "    </tr>\n",
       "  </tbody>\n",
       "</table>\n",
       "</div>"
      ],
      "text/plain": [
       "            Users  New Users\n",
       "DATE                        \n",
       "2021-01-01   1127        817\n",
       "2021-01-02   1082        782\n",
       "2021-01-03   1026        719\n",
       "2021-01-04   1016        699\n",
       "2021-01-05   1017        713"
      ]
     },
     "execution_count": 6,
     "metadata": {},
     "output_type": "execute_result"
    }
   ],
   "source": [
    "df_daily = df.resample(\"1D\").sum()\n",
    "df_daily.index.rename(\"DATE\", inplace= True)\n",
    "df_daily=df_daily.loc[start_date:]\n",
    "df_daily.head()"
   ]
  },
  {
   "cell_type": "markdown",
   "metadata": {},
   "source": [
    "Calculating Returns"
   ]
  },
  {
   "cell_type": "code",
   "execution_count": 7,
   "metadata": {},
   "outputs": [
    {
     "data": {
      "text/html": [
       "<div>\n",
       "<style scoped>\n",
       "    .dataframe tbody tr th:only-of-type {\n",
       "        vertical-align: middle;\n",
       "    }\n",
       "\n",
       "    .dataframe tbody tr th {\n",
       "        vertical-align: top;\n",
       "    }\n",
       "\n",
       "    .dataframe thead th {\n",
       "        text-align: right;\n",
       "    }\n",
       "</style>\n",
       "<table border=\"1\" class=\"dataframe\">\n",
       "  <thead>\n",
       "    <tr style=\"text-align: right;\">\n",
       "      <th></th>\n",
       "      <th>Users</th>\n",
       "      <th>New Users</th>\n",
       "      <th>Users Returns</th>\n",
       "      <th>New Users Returns</th>\n",
       "    </tr>\n",
       "    <tr>\n",
       "      <th>DATE</th>\n",
       "      <th></th>\n",
       "      <th></th>\n",
       "      <th></th>\n",
       "      <th></th>\n",
       "    </tr>\n",
       "  </thead>\n",
       "  <tbody>\n",
       "    <tr>\n",
       "      <th>2021-01-03</th>\n",
       "      <td>1026</td>\n",
       "      <td>719</td>\n",
       "      <td>-63.0</td>\n",
       "      <td>-28.0</td>\n",
       "    </tr>\n",
       "    <tr>\n",
       "      <th>2021-01-04</th>\n",
       "      <td>1016</td>\n",
       "      <td>699</td>\n",
       "      <td>-20.0</td>\n",
       "      <td>43.0</td>\n",
       "    </tr>\n",
       "    <tr>\n",
       "      <th>2021-01-05</th>\n",
       "      <td>1017</td>\n",
       "      <td>713</td>\n",
       "      <td>14.0</td>\n",
       "      <td>34.0</td>\n",
       "    </tr>\n",
       "    <tr>\n",
       "      <th>2021-01-06</th>\n",
       "      <td>2216</td>\n",
       "      <td>1861</td>\n",
       "      <td>1148.0</td>\n",
       "      <td>1134.0</td>\n",
       "    </tr>\n",
       "    <tr>\n",
       "      <th>2021-01-07</th>\n",
       "      <td>2018</td>\n",
       "      <td>1531</td>\n",
       "      <td>-330.0</td>\n",
       "      <td>-1478.0</td>\n",
       "    </tr>\n",
       "  </tbody>\n",
       "</table>\n",
       "</div>"
      ],
      "text/plain": [
       "            Users  New Users  Users Returns  New Users Returns\n",
       "DATE                                                          \n",
       "2021-01-03   1026        719          -63.0              -28.0\n",
       "2021-01-04   1016        699          -20.0               43.0\n",
       "2021-01-05   1017        713           14.0               34.0\n",
       "2021-01-06   2216       1861         1148.0             1134.0\n",
       "2021-01-07   2018       1531         -330.0            -1478.0"
      ]
     },
     "execution_count": 7,
     "metadata": {},
     "output_type": "execute_result"
    }
   ],
   "source": [
    "j = 0\n",
    "for i in df_daily.columns:\n",
    "    col_title = i + \" Returns\"\n",
    "    df_daily[col_title] = df_daily.iloc[:,1 + j] - df_daily.iloc[:,1+ j].shift(return_scale)\n",
    "    j += 1\n",
    "\n",
    "df_daily = df_daily.dropna()\n",
    "df_daily.head()"
   ]
  },
  {
   "cell_type": "code",
   "execution_count": 8,
   "metadata": {},
   "outputs": [
    {
     "data": {
      "image/png": "[encoded data removed]",
      "text/plain": [
       "<Figure size 1000x800 with 2 Axes>"
      ]
     },
     "metadata": {},
     "output_type": "display_data"
    }
   ],
   "source": [
    "fig, axs = plt.subplots(2, figsize= (10, 8))\n",
    "\n",
    "fig.suptitle(\"Organic Metaculus User Data\")\n",
    "for i in df_daily.columns:\n",
    "    if \"Returns\" in i:\n",
    "        axs[1].plot(df_daily.index,df_daily[i], label = i)\n",
    "    else:\n",
    "        axs[0].plot(df_daily.index,df_daily[i], label = i)\n",
    "\n",
    "axs[1].legend()\n",
    "axs[0].legend()\n",
    "\n",
    "plt.show()\n"
   ]
  },
  {
   "cell_type": "markdown",
   "metadata": {},
   "source": [
    "# Statistical Tests"
   ]
  },
  {
   "cell_type": "code",
   "execution_count": 9,
   "metadata": {},
   "outputs": [],
   "source": [
    "daily_users = df_daily.iloc[:,:2]\n",
    "daily_returns = df_daily.iloc[:,2:]\n",
    "\n",
    "df_total = d1.merge(daily_users, on=\"DATE\")\n",
    "df_returns= d1_ret.merge(daily_returns, on=\"DATE\")\n",
    "\n",
    "df_list = [df_total, df_returns]"
   ]
  },
  {
   "cell_type": "markdown",
   "metadata": {},
   "source": [
    "## Correlation Methods"
   ]
  },
  {
   "cell_type": "markdown",
   "metadata": {},
   "source": [
    "#### Pearson Correlation"
   ]
  },
  {
   "cell_type": "code",
   "execution_count": 10,
   "metadata": {},
   "outputs": [
    {
     "name": "stdout",
     "output_type": "stream",
     "text": [
      "CLOSE vs Users Correlation: 0.31008535824592204\n",
      "CLOSE vs New Users Correlation: -0.00489763064796455\n",
      "Users vs New Users Correlation: 0.826989717499613\n",
      "--------------\n",
      "RETURNS vs Users Returns Correlation: 0.1043624931100722\n",
      "RETURNS vs New Users Returns Correlation: 0.0653093699713647\n",
      "Users Returns vs New Users Returns Correlation: 0.7635373700050873\n",
      "--------------\n"
     ]
    }
   ],
   "source": [
    "for i in df_list:\n",
    "    cols = i.columns.to_list()\n",
    "    corr_df = i.reset_index(drop=True).to_numpy()\n",
    "    corr_coef = np.corrcoef(corr_df, rowvar = False)\n",
    "    #print(corr_coef)\n",
    "    for i in range(len(cols)):\n",
    "        for j in range(i +1, len(cols)):\n",
    "            print(\"{} vs {} Correlation: {}\".format(cols[i], cols[j], corr_coef[i][j]))\n",
    "    print(\"--------------\")"
   ]
  },
  {
   "cell_type": "markdown",
   "metadata": {},
   "source": [
    "#### Spearman Correlation"
   ]
  },
  {
   "cell_type": "code",
   "execution_count": 11,
   "metadata": {},
   "outputs": [
    {
     "name": "stdout",
     "output_type": "stream",
     "text": [
      "CLOSE vs Users Correlation: 0.4357624483156601\n",
      "CLOSE vs New Users Correlation: 0.03745167943397286\n",
      "Users vs New Users Correlation: 0.6968333174540359\n",
      "--------------\n",
      "RETURNS vs Users Returns Correlation: 0.12596625157472363\n",
      "RETURNS vs New Users Returns Correlation: 0.09655099190362113\n",
      "Users Returns vs New Users Returns Correlation: 0.7552449079582272\n",
      "--------------\n"
     ]
    }
   ],
   "source": [
    "for i in df_list:\n",
    "    cols = i.columns.to_list()\n",
    "    corr_df = i.reset_index(drop=True).to_numpy()\n",
    "    corr_coef = stats.spearmanr(corr_df)[0]\n",
    "    for i in range(len(cols)):\n",
    "        for j in range(i +1, len(cols)):\n",
    "            print(\"{} vs {} Correlation: {}\".format(cols[i], cols[j], corr_coef[i][j]))\n",
    "    print(\"--------------\")"
   ]
  },
  {
   "cell_type": "markdown",
   "metadata": {},
   "source": [
    "#### Cross Correlation"
   ]
  },
  {
   "cell_type": "code",
   "execution_count": 12,
   "metadata": {},
   "outputs": [
    {
     "name": "stdout",
     "output_type": "stream",
     "text": [
      "CLOSE vs. Users\n",
      "Lag 446: 6.249826899062535\n",
      "Lag 445: 6.180981422534674\n",
      "Lag 444: 5.962075383970519\n",
      "Lag 447: 5.70104446759317\n",
      "Lag 443: 5.565720887295611\n",
      "\n",
      "CLOSE vs. New Users\n",
      "Lag 446: 7.562285505635557\n",
      "Lag 445: 7.34681735057002\n",
      "Lag 444: 7.141884855782334\n",
      "Lag 447: 7.133592217261478\n",
      "Lag 443: 6.639648170684253\n",
      "\n",
      "--------------\n",
      "RETURNS vs. Users Returns\n",
      "Lag 447: 1.4998617113273198\n",
      "Lag 445: 1.30841407617125\n",
      "Lag 439: -1.224632292187968\n",
      "Lag 437: 1.1910571204003741\n",
      "Lag 443: -0.9165883554600815\n",
      "\n",
      "RETURNS vs. New Users Returns\n",
      "Lag 444: -1.2641721601662936\n",
      "Lag 439: -1.1409550207951733\n",
      "Lag 447: 1.1023778110866693\n",
      "Lag 438: 1.0532415850504462\n",
      "Lag 440: 0.70679010160384\n",
      "\n",
      "--------------\n"
     ]
    }
   ],
   "source": [
    "for i in df_list:\n",
    "    cols = i.columns.to_list()\n",
    "    \n",
    "    for j in range(1,len(cols)):\n",
    "        cross_corr = sm.tsa.stattools.ccf(i[cols[0]],i[cols[j]] )\n",
    "        sorted_corr = sorted(np.abs(cross_corr), reverse = True) [0:5]\n",
    "        print(\"{} vs. {}\".format(cols[0], cols[j]))\n",
    "        for k in sorted_corr:\n",
    "            if k in cross_corr:\n",
    "                print(\"Lag {}: {}\".format(cross_corr.tolist().index(k), k))\n",
    "            else:\n",
    "                print(\"Lag {}: -{}\".format(cross_corr.tolist().index(-k), k))\n",
    "        print(\"\")\n",
    "        #print(\"{} vs {} Correlation: {}\".format(cols[i], cols[j], corr_coef[i][j]))\n",
    "    \n",
    "    print(\"--------------\")"
   ]
  },
  {
   "cell_type": "markdown",
   "metadata": {},
   "source": [
    "## Time Lagged LASSO Regression"
   ]
  },
  {
   "cell_type": "code",
   "execution_count": 13,
   "metadata": {},
   "outputs": [
    {
     "name": "stdout",
     "output_type": "stream",
     "text": [
      "CLOSE vs. Users\n",
      "alpha: 0.1\n",
      "                            OLS Regression Results                            \n",
      "==============================================================================\n",
      "Dep. Variable:                  CLOSE   R-squared:                       0.128\n",
      "Model:                            OLS   Adj. R-squared:                  0.119\n",
      "Method:                 Least Squares   F-statistic:                     14.73\n",
      "Date:                Sat, 26 Nov 2022   Prob (F-statistic):           3.07e-11\n",
      "Time:                        20:01:16   Log-Likelihood:                -1211.0\n",
      "No. Observations:                 406   AIC:                             2432.\n",
      "Df Residuals:                     401   BIC:                             2452.\n",
      "Df Model:                           4                                         \n",
      "Covariance Type:            nonrobust                                         \n",
      "==============================================================================\n",
      "                 coef    std err          t      P>|t|      [0.025      0.975]\n",
      "------------------------------------------------------------------------------\n",
      "const         22.2477      0.239     93.264      0.000      21.779      22.717\n",
      "Users          1.1268      0.446      2.524      0.012       0.249       2.005\n",
      "lag 1          0.2428      0.533      0.456      0.649      -0.805       1.290\n",
      "lag 2          0.1081      0.531      0.204      0.839      -0.936       1.152\n",
      "lag 3          0.5087      0.446      1.142      0.254      -0.367       1.385\n",
      "==============================================================================\n",
      "Omnibus:                        8.760   Durbin-Watson:                   0.154\n",
      "Prob(Omnibus):                  0.013   Jarque-Bera (JB):                8.269\n",
      "Skew:                           0.301   Prob(JB):                       0.0160\n",
      "Kurtosis:                       2.646   Cond. No.                         5.01\n",
      "==============================================================================\n",
      "\n",
      "Notes:\n",
      "[1] Standard Errors assume that the covariance matrix of the errors is correctly specified.\n",
      "2 Statistically Significant Lags\n",
      "-----------\n",
      "CLOSE vs. New Users\n",
      "alpha: 0.1\n",
      "                            OLS Regression Results                            \n",
      "==============================================================================\n",
      "Dep. Variable:                  CLOSE   R-squared:                       0.077\n",
      "Model:                            OLS   Adj. R-squared:                  0.039\n",
      "Method:                 Least Squares   F-statistic:                     2.033\n",
      "Date:                Sat, 26 Nov 2022   Prob (F-statistic):             0.0106\n",
      "Time:                        20:01:16   Log-Likelihood:                -1222.5\n",
      "No. Observations:                 406   AIC:                             2479.\n",
      "Df Residuals:                     389   BIC:                             2547.\n",
      "Df Model:                          16                                         \n",
      "Covariance Type:            nonrobust                                         \n",
      "==============================================================================\n",
      "                 coef    std err          t      P>|t|      [0.025      0.975]\n",
      "------------------------------------------------------------------------------\n",
      "const         22.2477      0.249     89.286      0.000      21.758      22.738\n",
      "lag 7         -0.2260      0.333     -0.679      0.497      -0.880       0.428\n",
      "lag 9         -0.2393      0.326     -0.734      0.463      -0.880       0.402\n",
      "lag 25        -0.2582      0.326     -0.793      0.428      -0.898       0.382\n",
      "lag 27        -0.1383      0.371     -0.373      0.709      -0.867       0.591\n",
      "lag 29        -0.1176      0.412     -0.285      0.776      -0.929       0.693\n",
      "lag 30        -0.0337      0.441     -0.077      0.939      -0.900       0.833\n",
      "lag 31        -0.1128      0.441     -0.256      0.798      -0.979       0.753\n",
      "lag 32        -0.0385      0.445     -0.086      0.931      -0.914       0.837\n",
      "lag 33        -0.1148      0.451     -0.254      0.799      -1.002       0.772\n",
      "lag 34        -0.0640      0.426     -0.150      0.881      -0.901       0.773\n",
      "lag 36        -0.0615      0.433     -0.142      0.887      -0.912       0.789\n",
      "lag 37        -0.2229      0.472     -0.472      0.637      -1.151       0.705\n",
      "lag 38        -0.1049      0.478     -0.219      0.826      -1.044       0.835\n",
      "lag 39        -0.0665      0.492     -0.135      0.893      -1.034       0.901\n",
      "lag 40        -0.1017      0.440     -0.231      0.818      -0.968       0.764\n",
      "lag 44        -0.2887      0.315     -0.917      0.360      -0.908       0.330\n",
      "==============================================================================\n",
      "Omnibus:                       27.344   Durbin-Watson:                   0.138\n",
      "Prob(Omnibus):                  0.000   Jarque-Bera (JB):               19.865\n",
      "Skew:                           0.433   Prob(JB):                     4.86e-05\n",
      "Kurtosis:                       2.350   Cond. No.                         6.79\n",
      "==============================================================================\n",
      "\n",
      "Notes:\n",
      "[1] Standard Errors assume that the covariance matrix of the errors is correctly specified.\n",
      "1 Statistically Significant Lags\n",
      "-----------\n",
      "RETURNS vs. Users Returns\n",
      "alpha: 0.1\n",
      "                            OLS Regression Results                            \n",
      "==============================================================================\n",
      "Dep. Variable:                RETURNS   R-squared:                       0.039\n",
      "Model:                            OLS   Adj. R-squared:                  0.034\n",
      "Method:                 Least Squares   F-statistic:                     8.231\n",
      "Date:                Sat, 26 Nov 2022   Prob (F-statistic):           0.000313\n",
      "Time:                        20:01:16   Log-Likelihood:                -813.49\n",
      "No. Observations:                 406   AIC:                             1633.\n",
      "Df Residuals:                     403   BIC:                             1645.\n",
      "Df Model:                           2                                         \n",
      "Covariance Type:            nonrobust                                         \n",
      "==============================================================================\n",
      "                 coef    std err          t      P>|t|      [0.025      0.975]\n",
      "------------------------------------------------------------------------------\n",
      "const          0.0172      0.089      0.192      0.848      -0.159       0.193\n",
      "lag 11         0.2538      0.090      2.830      0.005       0.078       0.430\n",
      "lag 17         0.2771      0.090      3.089      0.002       0.101       0.453\n",
      "==============================================================================\n",
      "Omnibus:                       72.874   Durbin-Watson:                   2.113\n",
      "Prob(Omnibus):                  0.000   Jarque-Bera (JB):              161.969\n",
      "Skew:                           0.928   Prob(JB):                     6.74e-36\n",
      "Kurtosis:                       5.476   Cond. No.                         1.07\n",
      "==============================================================================\n",
      "\n",
      "Notes:\n",
      "[1] Standard Errors assume that the covariance matrix of the errors is correctly specified.\n",
      "2 Statistically Significant Lags\n",
      "-----------\n",
      "RETURNS vs. New Users Returns\n",
      "alpha: 0.1\n",
      "                            OLS Regression Results                            \n",
      "==============================================================================\n",
      "Dep. Variable:                RETURNS   R-squared:                       0.034\n",
      "Model:                            OLS   Adj. R-squared:                  0.029\n",
      "Method:                 Least Squares   F-statistic:                     7.117\n",
      "Date:                Sat, 26 Nov 2022   Prob (F-statistic):           0.000918\n",
      "Time:                        20:01:16   Log-Likelihood:                -814.57\n",
      "No. Observations:                 406   AIC:                             1635.\n",
      "Df Residuals:                     403   BIC:                             1647.\n",
      "Df Model:                           2                                         \n",
      "Covariance Type:            nonrobust                                         \n",
      "==============================================================================\n",
      "                 coef    std err          t      P>|t|      [0.025      0.975]\n",
      "------------------------------------------------------------------------------\n",
      "const          0.0172      0.090      0.192      0.848      -0.159       0.193\n",
      "lag 10        -0.2321      0.090     -2.581      0.010      -0.409      -0.055\n",
      "lag 16        -0.2617      0.090     -2.910      0.004      -0.438      -0.085\n",
      "==============================================================================\n",
      "Omnibus:                       67.355   Durbin-Watson:                   2.109\n",
      "Prob(Omnibus):                  0.000   Jarque-Bera (JB):              157.590\n",
      "Skew:                           0.843   Prob(JB):                     6.02e-35\n",
      "Kurtosis:                       5.544   Cond. No.                         1.07\n",
      "==============================================================================\n",
      "\n",
      "Notes:\n",
      "[1] Standard Errors assume that the covariance matrix of the errors is correctly specified.\n",
      "2 Statistically Significant Lags\n",
      "-----------\n"
     ]
    }
   ],
   "source": [
    "for data in df_list:\n",
    "    for j in data.columns:\n",
    "        if j!= data.columns[0]:\n",
    "            print(\"{} vs. {}\".format(data.columns[0], j))\n",
    "            lag_data = data[[data.columns[0], j]]\n",
    "            for i in range(lags_min, lags):\n",
    "                lag_name = \"lag {}\".format(i)\n",
    "                lag_data[lag_name] = lag_data[j].shift(i)\n",
    "\n",
    "            lag_data = lag_data.dropna()\n",
    "\n",
    "            Y = lag_data[data.columns[0]]\n",
    "            X = lag_data.iloc[:,1:]\n",
    "\n",
    "            X_norm = X.copy()\n",
    "            for i in X.columns:    \n",
    "                X_norm[i] =(X[i] - X[i].mean()) / X[i].std() \n",
    "\n",
    "            Y_norm = (Y - Y.mean()) / Y.std() \n",
    "\n",
    "\n",
    "            alphas = np.geomspace(1e-3,1e-1, 20)\n",
    "            for i in alphas:\n",
    "                lassoreg = Lasso(alpha=i)\n",
    "                lassoreg.fit(X_norm,Y_norm)\n",
    "                coefs= lassoreg.coef_\n",
    "                if sum(coefs) != 0:\n",
    "                    alpha = i\n",
    "\n",
    "            print(\"alpha: {}\".format(alpha))\n",
    "            lassoreg = Lasso(alpha=alpha)\n",
    "            lassoreg.fit(X_norm,Y_norm)\n",
    "            coefs= lassoreg.coef_\n",
    "\n",
    "\n",
    "            lasso_df = X_norm.copy()\n",
    "            drop_list = []\n",
    "            for i in range(len(coefs)):\n",
    "                if coefs[i] == 0:\n",
    "                    drop_list.append(X_norm.columns[i])\n",
    "\n",
    "\n",
    "            lasso_df = lasso_df.drop(columns = drop_list)\n",
    "\n",
    "            lasso2 = sm.add_constant(lasso_df)\n",
    "            sparse_reg = sm.OLS(Y, lasso2)\n",
    "            sparse = sparse_reg.fit()\n",
    "            print(sparse.summary())\n",
    "            print(\"{} Statistically Significant Lags\".format(sum(sparse.pvalues < 0.05)))\n",
    "\n",
    "            print(\"-----------\")\n"
   ]
  },
  {
   "cell_type": "markdown",
   "metadata": {},
   "source": [
    "## Granger Causality F-Tests"
   ]
  },
  {
   "cell_type": "code",
   "execution_count": 14,
   "metadata": {},
   "outputs": [
    {
     "name": "stdout",
     "output_type": "stream",
     "text": [
      "CLOSE vs. Users\n",
      "Lag 16: 0.14553692694691103\n",
      "Lag 15: 0.1558478414822935\n",
      "Lag 20: 0.14728899882116664\n",
      "Lag 18: 0.15823305824611578\n",
      "Lag 19: 0.19129931942767325\n",
      "\n",
      "CLOSE vs. New Users\n",
      "Lag 15: 0.03499670734013539\n",
      "Lag 16: 0.03624210776317315\n",
      "Lag 14: 0.09543860193655573\n",
      "Lag 20: 0.08379827703746388\n",
      "Lag 12: 0.13061748344034613\n",
      "\n",
      "----------\n",
      "RETURNS vs. Users Returns\n",
      "Lag 15: 0.01863748839502331\n",
      "Lag 14: 0.02408127953521101\n",
      "Lag 16: 0.027390039805938588\n",
      "Lag 11: 0.07040676018675583\n",
      "Lag 13: 0.09043150396196997\n",
      "\n",
      "RETURNS vs. New Users Returns\n",
      "Lag 15: 0.010824786869391527\n",
      "Lag 14: 0.012890922055681717\n",
      "Lag 13: 0.01659835205535658\n",
      "Lag 16: 0.013483383366364694\n",
      "Lag 10: 0.04939519482746788\n",
      "\n",
      "----------\n"
     ]
    }
   ],
   "source": [
    "for data in df_list:\n",
    "    x_col = data.columns[0]\n",
    "\n",
    "    adf1 = sm.tsa.stattools.adfuller(data[x_col], autolag='AIC')[1]\n",
    "    if adf1 >= 0.05:\n",
    "        print(\"All {} Timeseries are not Stationary\".format(x_col))\n",
    "    else:\n",
    "        for j in data.columns:\n",
    "            if j!= x_col:\n",
    "                adf2 = sm.tsa.stattools.adfuller(data[j], autolag='AIC')[1]\n",
    "\n",
    "                if adf2 < 0.05:\n",
    "                    granger = sm.tsa.stattools.grangercausalitytests(data[[x_col,j]], lags, verbose= False)\n",
    "                    print( \"{} vs. {}\".format(x_col, j))\n",
    "                else:\n",
    "                    print(\"{} Timeseries are not Stationary\".format(j))\n",
    "\n",
    "                ftests=[]\n",
    "                pvals = []\n",
    "                for i in range(lags):\n",
    "                    ftests.append(granger[i+1][0]['ssr_ftest'][0])\n",
    "                    pvals.append(granger[i+1][0]['ssr_ftest'][1])\n",
    "\n",
    "                sort_ftest = sorted(ftests,reverse = True) [0:5]\n",
    "\n",
    "                for i in sort_ftest:\n",
    "                    ind = ftests.index(i)\n",
    "                    print(\"Lag {}: {}\".format(ind +1, pvals[ind]))\n",
    "                print(\"\")\n",
    "    print(\"----------\")"
   ]
  },
  {
   "cell_type": "markdown",
   "metadata": {},
   "source": [
    "## Dynamic Time Wrapping"
   ]
  },
  {
   "cell_type": "code",
   "execution_count": 15,
   "metadata": {},
   "outputs": [
    {
     "name": "stdout",
     "output_type": "stream",
     "text": [
      "CLOSE vs. Users\n",
      "Distance: 214.4622813237869\n",
      "Average Distance: 0.4765828473861931\n",
      "\n",
      "CLOSE vs. New Users\n",
      "Distance: 293.91518307385275\n",
      "Average Distance: 0.6531448512752284\n",
      "\n",
      "----------\n",
      "RETURNS vs. Users Returns\n",
      "Distance: 311.91780200282017\n",
      "Average Distance: 0.6931506711173782\n",
      "\n",
      "RETURNS vs. New Users Returns\n",
      "Distance: 315.72024615997907\n",
      "Average Distance: 0.7016005470221757\n",
      "\n",
      "----------\n"
     ]
    }
   ],
   "source": [
    "for data in df_list:\n",
    "    x_col = data.columns[0]\n",
    "\n",
    "    dtw1 = (data[x_col] - data[x_col].mean())/data[x_col].std() \n",
    "    for j in data.columns:\n",
    "        #print(j)\n",
    "        if j!= x_col:\n",
    "            dtw2 = (data[j] - data[j].mean())/data[j].std() \n",
    "            print( \"{} vs. {}\".format(x_col, j))\n",
    "\n",
    "            distance, path = fastdtw( dtw1,dtw2, dist=euclidean)\n",
    "            print(\"Distance: {}\".format(distance))\n",
    "            print(\"Average Distance: {}\".format(distance/len(dtw2)))\n",
    "            print(\"\")\n",
    "    print(\"----------\")"
   ]
  }
 ],
 "metadata": {
  "kernelspec": {
   "display_name": "Python 3.8.8 ('venv-3.8-pAhcsra2')",
   "language": "python",
   "name": "python3"
  },
  "language_info": {
   "codemirror_mode": {
    "name": "ipython",
    "version": 3
   },
   "file_extension": ".py",
   "mimetype": "text/x-python",
   "name": "python",
   "nbconvert_exporter": "python",
   "pygments_lexer": "ipython3",
   "version": "3.8.8"
  },
  "orig_nbformat": 4,
  "vscode": {
   "interpreter": {
    "hash": "7bf0f0e42995efe4767549cbb7289084ca9269106150d550f3a3ac1b4214bc6f"
   }
  }
 },
 "nbformat": 4,
 "nbformat_minor": 2
}
