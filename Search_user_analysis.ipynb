{
 "cells": [
  {
   "cell_type": "code",
   "execution_count": 1,
   "metadata": {},
   "outputs": [],
   "source": [
    "from time import strftime\n",
    "import matplotlib.pyplot as plt\n",
    "import numpy as np\n",
    "import pandas as pd\n",
    "import glob\n",
    "from statsmodels.tsa.seasonal import seasonal_decompose\n",
    "from statsmodels.tsa.stattools import adfuller\n",
    "from pandas.plotting import autocorrelation_plot\n",
    "import datetime \n",
    "import re\n",
    "import matplotlib.ticker as ticker\n",
    "import matplotlib.dates as mdates\n",
    "from math import factorial\n",
    "from scipy.signal import savgol_filter"
   ]
  },
  {
   "cell_type": "code",
   "execution_count": 2,
   "metadata": {},
   "outputs": [],
   "source": [
    "return_scale = 1\n",
    "#Autocorrelation lags\n",
    "lags = 45\n",
    "lags_min = lags - lags"
   ]
  },
  {
   "cell_type": "markdown",
   "metadata": {},
   "source": [
    "## VIX Data"
   ]
  },
  {
   "cell_type": "code",
   "execution_count": 4,
   "metadata": {},
   "outputs": [
    {
     "name": "stdout",
     "output_type": "stream",
     "text": [
      "Collecting jupyter\n",
      "  Downloading jupyter-1.0.0-py2.py3-none-any.whl (2.7 kB)\n",
      "Requirement already satisfied: ipykernel in /Users/varunvaranasi/.local/share/virtualenvs/venv-3.8-pAhcsra2/lib/python3.8/site-packages (from jupyter) (6.16.0)\n",
      "Collecting jupyter-console\n",
      "  Downloading jupyter_console-6.4.4-py3-none-any.whl (22 kB)\n",
      "Collecting ipywidgets\n",
      "  Downloading ipywidgets-8.0.2-py3-none-any.whl (134 kB)\n",
      "\u001b[2K     \u001b[90m━━━━━━━━━━━━━━━━━━━━━━━━━━━━━━━━━━━━━━━\u001b[0m \u001b[32m134.4/134.4 KB\u001b[0m \u001b[31m1.8 MB/s\u001b[0m eta \u001b[36m0:00:00\u001b[0ma \u001b[36m0:00:01\u001b[0m\n",
      "\u001b[?25hCollecting notebook\n",
      "  Downloading notebook-6.5.2-py3-none-any.whl (439 kB)\n",
      "\u001b[2K     \u001b[90m━━━━━━━━━━━━━━━━━━━━━━━━━━━━━━━━━━━━━━━\u001b[0m \u001b[32m439.1/439.1 KB\u001b[0m \u001b[31m6.3 MB/s\u001b[0m eta \u001b[36m0:00:00\u001b[0ma \u001b[36m0:00:01\u001b[0m\n",
      "\u001b[?25hCollecting qtconsole\n",
      "  Downloading qtconsole-5.4.0-py3-none-any.whl (121 kB)\n",
      "\u001b[2K     \u001b[90m━━━━━━━━━━━━━━━━━━━━━━━━━━━━━━━━━━━━━━━\u001b[0m \u001b[32m121.0/121.0 KB\u001b[0m \u001b[31m3.4 MB/s\u001b[0m eta \u001b[36m0:00:00\u001b[0m\n",
      "\u001b[?25hCollecting nbconvert\n",
      "  Downloading nbconvert-7.2.5-py3-none-any.whl (273 kB)\n",
      "\u001b[2K     \u001b[90m━━━━━━━━━━━━━━━━━━━━━━━━━━━━━━━━━━━━━━━\u001b[0m \u001b[32m273.3/273.3 KB\u001b[0m \u001b[31m9.2 MB/s\u001b[0m eta \u001b[36m0:00:00\u001b[0m\n",
      "\u001b[?25hRequirement already satisfied: traitlets>=5.1.0 in /Users/varunvaranasi/.local/share/virtualenvs/venv-3.8-pAhcsra2/lib/python3.8/site-packages (from ipykernel->jupyter) (5.4.0)\n",
      "Requirement already satisfied: psutil in /Users/varunvaranasi/.local/share/virtualenvs/venv-3.8-pAhcsra2/lib/python3.8/site-packages (from ipykernel->jupyter) (5.9.2)\n",
      "Requirement already satisfied: ipython>=7.23.1 in /Users/varunvaranasi/.local/share/virtualenvs/venv-3.8-pAhcsra2/lib/python3.8/site-packages (from ipykernel->jupyter) (8.5.0)\n",
      "Requirement already satisfied: jupyter-client>=6.1.12 in /Users/varunvaranasi/.local/share/virtualenvs/venv-3.8-pAhcsra2/lib/python3.8/site-packages (from ipykernel->jupyter) (7.4.2)\n",
      "Requirement already satisfied: appnope in /Users/varunvaranasi/.local/share/virtualenvs/venv-3.8-pAhcsra2/lib/python3.8/site-packages (from ipykernel->jupyter) (0.1.3)\n",
      "Requirement already satisfied: debugpy>=1.0 in /Users/varunvaranasi/.local/share/virtualenvs/venv-3.8-pAhcsra2/lib/python3.8/site-packages (from ipykernel->jupyter) (1.6.3)\n",
      "Requirement already satisfied: matplotlib-inline>=0.1 in /Users/varunvaranasi/.local/share/virtualenvs/venv-3.8-pAhcsra2/lib/python3.8/site-packages (from ipykernel->jupyter) (0.1.6)\n",
      "Requirement already satisfied: packaging in /Users/varunvaranasi/.local/share/virtualenvs/venv-3.8-pAhcsra2/lib/python3.8/site-packages (from ipykernel->jupyter) (21.3)\n",
      "Requirement already satisfied: nest-asyncio in /Users/varunvaranasi/.local/share/virtualenvs/venv-3.8-pAhcsra2/lib/python3.8/site-packages (from ipykernel->jupyter) (1.5.6)\n",
      "Requirement already satisfied: pyzmq>=17 in /Users/varunvaranasi/.local/share/virtualenvs/venv-3.8-pAhcsra2/lib/python3.8/site-packages (from ipykernel->jupyter) (24.0.1)\n",
      "Requirement already satisfied: tornado>=6.1 in /Users/varunvaranasi/.local/share/virtualenvs/venv-3.8-pAhcsra2/lib/python3.8/site-packages (from ipykernel->jupyter) (6.2)\n",
      "Collecting widgetsnbextension~=4.0\n",
      "  Downloading widgetsnbextension-4.0.3-py3-none-any.whl (2.0 MB)\n",
      "\u001b[2K     \u001b[90m━━━━━━━━━━━━━━━━━━━━━━━━━━━━━━━━━━━━━━━━\u001b[0m \u001b[32m2.0/2.0 MB\u001b[0m \u001b[31m19.4 MB/s\u001b[0m eta \u001b[36m0:00:00\u001b[0m00:01\u001b[0m00:01\u001b[0m\n",
      "\u001b[?25hCollecting jupyterlab-widgets~=3.0\n",
      "  Downloading jupyterlab_widgets-3.0.3-py3-none-any.whl (384 kB)\n",
      "\u001b[2K     \u001b[90m━━━━━━━━━━━━━━━━━━━━━━━━━━━━━━━━━━━━━━\u001b[0m \u001b[32m384.1/384.1 KB\u001b[0m \u001b[31m13.0 MB/s\u001b[0m eta \u001b[36m0:00:00\u001b[0m\n",
      "\u001b[?25hRequirement already satisfied: pygments in /Users/varunvaranasi/.local/share/virtualenvs/venv-3.8-pAhcsra2/lib/python3.8/site-packages (from jupyter-console->jupyter) (2.13.0)\n",
      "Requirement already satisfied: prompt-toolkit!=3.0.0,!=3.0.1,<3.1.0,>=2.0.0 in /Users/varunvaranasi/.local/share/virtualenvs/venv-3.8-pAhcsra2/lib/python3.8/site-packages (from jupyter-console->jupyter) (3.0.31)\n",
      "Collecting defusedxml\n",
      "  Downloading defusedxml-0.7.1-py2.py3-none-any.whl (25 kB)\n",
      "Collecting tinycss2\n",
      "  Downloading tinycss2-1.2.1-py3-none-any.whl (21 kB)\n",
      "Requirement already satisfied: beautifulsoup4 in /Users/varunvaranasi/.local/share/virtualenvs/venv-3.8-pAhcsra2/lib/python3.8/site-packages (from nbconvert->jupyter) (4.11.1)\n",
      "Collecting importlib-metadata>=3.6\n",
      "  Downloading importlib_metadata-5.1.0-py3-none-any.whl (21 kB)\n",
      "Requirement already satisfied: jupyter-core>=4.7 in /Users/varunvaranasi/.local/share/virtualenvs/venv-3.8-pAhcsra2/lib/python3.8/site-packages (from nbconvert->jupyter) (4.11.1)\n",
      "Collecting nbformat>=5.1\n",
      "  Downloading nbformat-5.7.0-py3-none-any.whl (77 kB)\n",
      "\u001b[2K     \u001b[90m━━━━━━━━━━━━━━━━━━━━━━━━━━━━━━━━━━━━━━━━\u001b[0m \u001b[32m77.1/77.1 KB\u001b[0m \u001b[31m2.3 MB/s\u001b[0m eta \u001b[36m0:00:00\u001b[0m\n",
      "\u001b[?25hCollecting jinja2>=3.0\n",
      "  Downloading Jinja2-3.1.2-py3-none-any.whl (133 kB)\n",
      "\u001b[2K     \u001b[90m━━━━━━━━━━━━━━━━━━━━━━━━━━━━━━━━━━━━━━━\u001b[0m \u001b[32m133.1/133.1 KB\u001b[0m \u001b[31m4.7 MB/s\u001b[0m eta \u001b[36m0:00:00\u001b[0m\n",
      "\u001b[?25hCollecting nbclient>=0.5.0\n",
      "  Downloading nbclient-0.7.0-py3-none-any.whl (71 kB)\n",
      "\u001b[2K     \u001b[90m━━━━━━━━━━━━━━━━━━━━━━━━━━━━━━━━━━━━━━━━\u001b[0m \u001b[32m71.9/71.9 KB\u001b[0m \u001b[31m2.7 MB/s\u001b[0m eta \u001b[36m0:00:00\u001b[0m\n",
      "\u001b[?25hCollecting bleach\n",
      "  Downloading bleach-5.0.1-py3-none-any.whl (160 kB)\n",
      "\u001b[2K     \u001b[90m━━━━━━━━━━━━━━━━━━━━━━━━━━━━━━━━━━━━━━━\u001b[0m \u001b[32m160.9/160.9 KB\u001b[0m \u001b[31m5.2 MB/s\u001b[0m eta \u001b[36m0:00:00\u001b[0m\n",
      "\u001b[?25hCollecting mistune<3,>=2.0.3\n",
      "  Downloading mistune-2.0.4-py2.py3-none-any.whl (24 kB)\n",
      "Collecting pandocfilters>=1.4.1\n",
      "  Downloading pandocfilters-1.5.0-py2.py3-none-any.whl (8.7 kB)\n",
      "Collecting jupyterlab-pygments\n",
      "  Downloading jupyterlab_pygments-0.2.2-py2.py3-none-any.whl (21 kB)\n",
      "Collecting markupsafe>=2.0\n",
      "  Downloading MarkupSafe-2.1.1-cp38-cp38-macosx_10_9_x86_64.whl (13 kB)\n",
      "Collecting nbclassic>=0.4.7\n",
      "  Downloading nbclassic-0.4.8-py3-none-any.whl (9.8 MB)\n",
      "\u001b[2K     \u001b[90m━━━━━━━━━━━━━━━━━━━━━━━━━━━━━━━━━━━━━━━━\u001b[0m \u001b[32m9.8/9.8 MB\u001b[0m \u001b[31m36.1 MB/s\u001b[0m eta \u001b[36m0:00:00\u001b[0m00:01\u001b[0m00:01\u001b[0m\n",
      "\u001b[?25hCollecting terminado>=0.8.3\n",
      "  Using cached terminado-0.17.0-py3-none-any.whl (16 kB)\n",
      "Collecting ipython-genutils\n",
      "  Downloading ipython_genutils-0.2.0-py2.py3-none-any.whl (26 kB)\n",
      "Collecting prometheus-client\n",
      "  Downloading prometheus_client-0.15.0-py3-none-any.whl (60 kB)\n",
      "\u001b[2K     \u001b[90m━━━━━━━━━━━━━━━━━━━━━━━━━━━━━━━━━━━━━━━━\u001b[0m \u001b[32m60.1/60.1 KB\u001b[0m \u001b[31m2.4 MB/s\u001b[0m eta \u001b[36m0:00:00\u001b[0m\n",
      "\u001b[?25hCollecting Send2Trash>=1.8.0\n",
      "  Downloading Send2Trash-1.8.0-py3-none-any.whl (18 kB)\n",
      "Collecting argon2-cffi\n",
      "  Downloading argon2_cffi-21.3.0-py3-none-any.whl (14 kB)\n",
      "Collecting qtpy>=2.0.1\n",
      "  Downloading QtPy-2.3.0-py3-none-any.whl (83 kB)\n",
      "\u001b[2K     \u001b[90m━━━━━━━━━━━━━━━━━━━━━━━━━━━━━━━━━━━━━━━━\u001b[0m \u001b[32m83.6/83.6 KB\u001b[0m \u001b[31m3.5 MB/s\u001b[0m eta \u001b[36m0:00:00\u001b[0m\n",
      "\u001b[?25hCollecting zipp>=0.5\n",
      "  Downloading zipp-3.11.0-py3-none-any.whl (6.6 kB)\n",
      "Requirement already satisfied: backcall in /Users/varunvaranasi/.local/share/virtualenvs/venv-3.8-pAhcsra2/lib/python3.8/site-packages (from ipython>=7.23.1->ipykernel->jupyter) (0.2.0)\n",
      "Requirement already satisfied: pickleshare in /Users/varunvaranasi/.local/share/virtualenvs/venv-3.8-pAhcsra2/lib/python3.8/site-packages (from ipython>=7.23.1->ipykernel->jupyter) (0.7.5)\n",
      "Requirement already satisfied: decorator in /Users/varunvaranasi/.local/share/virtualenvs/venv-3.8-pAhcsra2/lib/python3.8/site-packages (from ipython>=7.23.1->ipykernel->jupyter) (5.1.1)\n",
      "Requirement already satisfied: stack-data in /Users/varunvaranasi/.local/share/virtualenvs/venv-3.8-pAhcsra2/lib/python3.8/site-packages (from ipython>=7.23.1->ipykernel->jupyter) (0.5.1)\n",
      "Requirement already satisfied: pexpect>4.3 in /Users/varunvaranasi/.local/share/virtualenvs/venv-3.8-pAhcsra2/lib/python3.8/site-packages (from ipython>=7.23.1->ipykernel->jupyter) (4.8.0)\n",
      "Requirement already satisfied: jedi>=0.16 in /Users/varunvaranasi/.local/share/virtualenvs/venv-3.8-pAhcsra2/lib/python3.8/site-packages (from ipython>=7.23.1->ipykernel->jupyter) (0.18.1)\n",
      "Requirement already satisfied: python-dateutil>=2.8.2 in /Users/varunvaranasi/.local/share/virtualenvs/venv-3.8-pAhcsra2/lib/python3.8/site-packages (from jupyter-client>=6.1.12->ipykernel->jupyter) (2.8.2)\n",
      "Requirement already satisfied: entrypoints in /Users/varunvaranasi/.local/share/virtualenvs/venv-3.8-pAhcsra2/lib/python3.8/site-packages (from jupyter-client>=6.1.12->ipykernel->jupyter) (0.4)\n",
      "Collecting jupyter-server>=1.8\n",
      "  Downloading jupyter_server-1.23.3-py3-none-any.whl (346 kB)\n",
      "\u001b[2K     \u001b[90m━━━━━━━━━━━━━━━━━━━━━━━━━━━━━━━━━━━━━━\u001b[0m \u001b[32m346.4/346.4 KB\u001b[0m \u001b[31m12.0 MB/s\u001b[0m eta \u001b[36m0:00:00\u001b[0m\n",
      "\u001b[?25hCollecting notebook-shim>=0.1.0\n",
      "  Downloading notebook_shim-0.2.2-py3-none-any.whl (13 kB)\n",
      "Collecting jsonschema>=2.6\n",
      "  Downloading jsonschema-4.17.1-py3-none-any.whl (90 kB)\n",
      "\u001b[2K     \u001b[90m━━━━━━━━━━━━━━━━━━━━━━━━━━━━━━━━━━━━━━━━\u001b[0m \u001b[32m90.2/90.2 KB\u001b[0m \u001b[31m3.7 MB/s\u001b[0m eta \u001b[36m0:00:00\u001b[0m\n",
      "\u001b[?25hCollecting fastjsonschema\n",
      "  Downloading fastjsonschema-2.16.2-py3-none-any.whl (22 kB)\n",
      "Requirement already satisfied: wcwidth in /Users/varunvaranasi/.local/share/virtualenvs/venv-3.8-pAhcsra2/lib/python3.8/site-packages (from prompt-toolkit!=3.0.0,!=3.0.1,<3.1.0,>=2.0.0->jupyter-console->jupyter) (0.2.5)\n",
      "Requirement already satisfied: ptyprocess in /Users/varunvaranasi/.local/share/virtualenvs/venv-3.8-pAhcsra2/lib/python3.8/site-packages (from terminado>=0.8.3->notebook->jupyter) (0.7.0)\n",
      "Collecting argon2-cffi-bindings\n",
      "  Downloading argon2_cffi_bindings-21.2.0-cp38-abi3-macosx_10_9_universal2.whl (53 kB)\n",
      "\u001b[2K     \u001b[90m━━━━━━━━━━━━━━━━━━━━━━━━━━━━━━━━━━━━━━━━\u001b[0m \u001b[32m53.1/53.1 KB\u001b[0m \u001b[31m2.0 MB/s\u001b[0m eta \u001b[36m0:00:00\u001b[0m\n",
      "\u001b[?25hRequirement already satisfied: soupsieve>1.2 in /Users/varunvaranasi/.local/share/virtualenvs/venv-3.8-pAhcsra2/lib/python3.8/site-packages (from beautifulsoup4->nbconvert->jupyter) (2.3.2.post1)\n",
      "Requirement already satisfied: six>=1.9.0 in /Users/varunvaranasi/.local/share/virtualenvs/venv-3.8-pAhcsra2/lib/python3.8/site-packages (from bleach->nbconvert->jupyter) (1.16.0)\n",
      "Collecting webencodings\n",
      "  Downloading webencodings-0.5.1-py2.py3-none-any.whl (11 kB)\n",
      "Requirement already satisfied: pyparsing!=3.0.5,>=2.0.2 in /Users/varunvaranasi/.local/share/virtualenvs/venv-3.8-pAhcsra2/lib/python3.8/site-packages (from packaging->ipykernel->jupyter) (3.0.9)\n",
      "Requirement already satisfied: parso<0.9.0,>=0.8.0 in /Users/varunvaranasi/.local/share/virtualenvs/venv-3.8-pAhcsra2/lib/python3.8/site-packages (from jedi>=0.16->ipython>=7.23.1->ipykernel->jupyter) (0.8.3)\n",
      "Collecting pyrsistent!=0.17.0,!=0.17.1,!=0.17.2,>=0.14.0\n",
      "  Downloading pyrsistent-0.19.2-cp38-cp38-macosx_10_9_universal2.whl (82 kB)\n",
      "\u001b[2K     \u001b[90m━━━━━━━━━━━━━━━━━━━━━━━━━━━━━━━━━━━━━━━━\u001b[0m \u001b[32m82.5/82.5 KB\u001b[0m \u001b[31m3.5 MB/s\u001b[0m eta \u001b[36m0:00:00\u001b[0m\n",
      "\u001b[?25hCollecting importlib-resources>=1.4.0\n",
      "  Downloading importlib_resources-5.10.0-py3-none-any.whl (34 kB)\n",
      "Collecting pkgutil-resolve-name>=1.3.10\n",
      "  Downloading pkgutil_resolve_name-1.3.10-py3-none-any.whl (4.7 kB)\n",
      "Collecting attrs>=17.4.0\n",
      "  Downloading attrs-22.1.0-py2.py3-none-any.whl (58 kB)\n",
      "\u001b[2K     \u001b[90m━━━━━━━━━━━━━━━━━━━━━━━━━━━━━━━━━━━━━━━━\u001b[0m \u001b[32m58.8/58.8 KB\u001b[0m \u001b[31m2.2 MB/s\u001b[0m eta \u001b[36m0:00:00\u001b[0m\n",
      "\u001b[?25hCollecting websocket-client\n",
      "  Downloading websocket_client-1.4.2-py3-none-any.whl (55 kB)\n",
      "\u001b[2K     \u001b[90m━━━━━━━━━━━━━━━━━━━━━━━━━━━━━━━━━━━━━━━━\u001b[0m \u001b[32m55.3/55.3 KB\u001b[0m \u001b[31m2.1 MB/s\u001b[0m eta \u001b[36m0:00:00\u001b[0m\n",
      "\u001b[?25hCollecting anyio<4,>=3.1.0\n",
      "  Downloading anyio-3.6.2-py3-none-any.whl (80 kB)\n",
      "\u001b[2K     \u001b[90m━━━━━━━━━━━━━━━━━━━━━━━━━━━━━━━━━━━━━━━━\u001b[0m \u001b[32m80.6/80.6 KB\u001b[0m \u001b[31m3.2 MB/s\u001b[0m eta \u001b[36m0:00:00\u001b[0m\n",
      "\u001b[?25hCollecting cffi>=1.0.1\n",
      "  Downloading cffi-1.15.1-cp38-cp38-macosx_10_9_x86_64.whl (178 kB)\n",
      "\u001b[2K     \u001b[90m━━━━━━━━━━━━━━━━━━━━━━━━━━━━━━━━━━━━━━━\u001b[0m \u001b[32m178.9/178.9 KB\u001b[0m \u001b[31m7.2 MB/s\u001b[0m eta \u001b[36m0:00:00\u001b[0m\n",
      "\u001b[?25hRequirement already satisfied: executing in /Users/varunvaranasi/.local/share/virtualenvs/venv-3.8-pAhcsra2/lib/python3.8/site-packages (from stack-data->ipython>=7.23.1->ipykernel->jupyter) (1.1.1)\n",
      "Requirement already satisfied: asttokens in /Users/varunvaranasi/.local/share/virtualenvs/venv-3.8-pAhcsra2/lib/python3.8/site-packages (from stack-data->ipython>=7.23.1->ipykernel->jupyter) (2.0.8)\n",
      "Requirement already satisfied: pure-eval in /Users/varunvaranasi/.local/share/virtualenvs/venv-3.8-pAhcsra2/lib/python3.8/site-packages (from stack-data->ipython>=7.23.1->ipykernel->jupyter) (0.2.2)\n",
      "Requirement already satisfied: idna>=2.8 in /Users/varunvaranasi/.local/share/virtualenvs/venv-3.8-pAhcsra2/lib/python3.8/site-packages (from anyio<4,>=3.1.0->jupyter-server>=1.8->nbclassic>=0.4.7->notebook->jupyter) (3.3)\n",
      "Collecting sniffio>=1.1\n",
      "  Downloading sniffio-1.3.0-py3-none-any.whl (10 kB)\n",
      "Collecting pycparser\n",
      "  Downloading pycparser-2.21-py2.py3-none-any.whl (118 kB)\n",
      "\u001b[2K     \u001b[90m━━━━━━━━━━━━━━━━━━━━━━━━━━━━━━━━━━━━━━━\u001b[0m \u001b[32m118.7/118.7 KB\u001b[0m \u001b[31m4.7 MB/s\u001b[0m eta \u001b[36m0:00:00\u001b[0m\n",
      "\u001b[?25hInstalling collected packages: webencodings, Send2Trash, mistune, ipython-genutils, fastjsonschema, zipp, widgetsnbextension, websocket-client, tinycss2, terminado, sniffio, pyrsistent, pycparser, prometheus-client, pkgutil-resolve-name, pandocfilters, markupsafe, jupyterlab-widgets, jupyterlab-pygments, defusedxml, bleach, attrs, qtpy, jinja2, importlib-resources, importlib-metadata, cffi, anyio, jsonschema, argon2-cffi-bindings, nbformat, argon2-cffi, qtconsole, nbclient, jupyter-console, ipywidgets, nbconvert, jupyter-server, notebook-shim, nbclassic, notebook, jupyter\n",
      "Successfully installed Send2Trash-1.8.0 anyio-3.6.2 argon2-cffi-21.3.0 argon2-cffi-bindings-21.2.0 attrs-22.1.0 bleach-5.0.1 cffi-1.15.1 defusedxml-0.7.1 fastjsonschema-2.16.2 importlib-metadata-5.1.0 importlib-resources-5.10.0 ipython-genutils-0.2.0 ipywidgets-8.0.2 jinja2-3.1.2 jsonschema-4.17.1 jupyter-1.0.0 jupyter-console-6.4.4 jupyter-server-1.23.3 jupyterlab-pygments-0.2.2 jupyterlab-widgets-3.0.3 markupsafe-2.1.1 mistune-2.0.4 nbclassic-0.4.8 nbclient-0.7.0 nbconvert-7.2.5 nbformat-5.7.0 notebook-6.5.2 notebook-shim-0.2.2 pandocfilters-1.5.0 pkgutil-resolve-name-1.3.10 prometheus-client-0.15.0 pycparser-2.21 pyrsistent-0.19.2 qtconsole-5.4.0 qtpy-2.3.0 sniffio-1.3.0 terminado-0.17.0 tinycss2-1.2.1 webencodings-0.5.1 websocket-client-1.4.2 widgetsnbextension-4.0.3 zipp-3.11.0\n",
      "\u001b[33mWARNING: You are using pip version 22.0.3; however, version 22.3.1 is available.\n",
      "You should consider upgrading via the '/Users/varunvaranasi/.local/share/virtualenvs/venv-3.8-pAhcsra2/bin/python -m pip install --upgrade pip' command.\u001b[0m\u001b[33m\n",
      "\u001b[0mNote: you may need to restart the kernel to use updated packages.\n"
     ]
    }
   ],
   "source": [
    "%pip install jupyter"
   ]
  },
  {
   "cell_type": "code",
   "execution_count": 5,
   "metadata": {},
   "outputs": [
    {
     "ename": "NameError",
     "evalue": "name 'd1_name' is not defined",
     "output_type": "error",
     "traceback": [
      "\u001b[0;31m---------------------------------------------------------------------------\u001b[0m",
      "\u001b[0;31mNameError\u001b[0m                                 Traceback (most recent call last)",
      "Cell \u001b[0;32mIn [5], line 1\u001b[0m\n\u001b[0;32m----> 1\u001b[0m d1_filename \u001b[39m=\u001b[39m glob\u001b[39m.\u001b[39mglob(d1_name)[\u001b[39m0\u001b[39m]\n\u001b[1;32m      2\u001b[0m d1\u001b[39m=\u001b[39m pd\u001b[39m.\u001b[39mread_csv(d1_filename)\n\u001b[1;32m      3\u001b[0m d1[\u001b[39m\"\u001b[39m\u001b[39mreturns\u001b[39m\u001b[39m\"\u001b[39m] \u001b[39m=\u001b[39m d1[\u001b[39m\"\u001b[39m\u001b[39mCLOSE\u001b[39m\u001b[39m\"\u001b[39m] \u001b[39m-\u001b[39m d1[\u001b[39m\"\u001b[39m\u001b[39mCLOSE\u001b[39m\u001b[39m\"\u001b[39m]\u001b[39m.\u001b[39mshift(return_scale)\n",
      "\u001b[0;31mNameError\u001b[0m: name 'd1_name' is not defined"
     ]
    }
   ],
   "source": [
    "d1_filename = glob.glob(d1_name)[0]\n",
    "d1= pd.read_csv(d1_filename)\n",
    "d1[\"returns\"] = d1[\"CLOSE\"] - d1[\"CLOSE\"].shift(return_scale)\n",
    "d1=d1.dropna()"
   ]
  },
  {
   "cell_type": "markdown",
   "metadata": {},
   "source": [
    "## All User Data"
   ]
  },
  {
   "cell_type": "code",
   "execution_count": null,
   "metadata": {},
   "outputs": [],
   "source": [
    "partial_name = f'Data/All_Metaculus*'\n",
    "filename = glob.glob(partial_name)[0]\n",
    "df= pd.read_csv(filename, parse_dates=['Time'], index_col = ['Time'])\n",
    "df= df[df['Users'] != 0]\n",
    "#df=df.loc[start_date:]\n",
    "X= df.index\n",
    "print(df)\n",
    "\n",
    "plt.figure(figsize=(8, 6))\n",
    "for i in df.columns:\n",
    "        plt.plot(X,df[i], label = i)\n",
    "\n",
    "plt.title(\"Timeseries of All Metaculus Data\")\n",
    "plt.xlabel(\"Date\")\n",
    "plt.ylabel(\"User Data\")\n",
    "plt.legend()\n",
    "plt.show()"
   ]
  },
  {
   "cell_type": "code",
   "execution_count": null,
   "metadata": {},
   "outputs": [],
   "source": [
    "all_daily = df.copy()\n",
    "all_daily = all_daily.resample(\"1D\").sum()\n",
    "print(all_daily.head(25))"
   ]
  },
  {
   "cell_type": "code",
   "execution_count": null,
   "metadata": {},
   "outputs": [],
   "source": [
    "all_returns = df.iloc[:,1] - df.iloc[:,1].shift(return_scale)\n",
    "all_returns = all_returns.dropna().to_frame()\n",
    "\n",
    "\n",
    "all_returns.columns = [\"Returns\"]\n",
    "all_returns.index.rename(\"DATE\", inplace= True)\n",
    "#all_returns[\"Returns\"] = np.log(all_returns[\"Returns\"])\n",
    "\n",
    "plt.figure(figsize=(8, 6))\n",
    "for i in all_returns.columns:\n",
    "        plt.plot(all_returns.index,all_returns[i], label = i)\n",
    "\n",
    "plt.title(\"Timeseries of {} Day Returns on All Metaculus Users\".format(return_scale))\n",
    "plt.xlabel(\"Time\")\n",
    "plt.ylabel(\"Returns on User Data\")\n",
    "plt.legend()\n",
    "plt.show()"
   ]
  }
 ],
 "metadata": {
  "kernelspec": {
   "display_name": "Python 3.8.8 ('venv-3.8-pAhcsra2')",
   "language": "python",
   "name": "python3"
  },
  "language_info": {
   "codemirror_mode": {
    "name": "ipython",
    "version": 3
   },
   "file_extension": ".py",
   "mimetype": "text/x-python",
   "name": "python",
   "nbconvert_exporter": "python",
   "pygments_lexer": "ipython3",
   "version": "3.8.8"
  },
  "orig_nbformat": 4,
  "vscode": {
   "interpreter": {
    "hash": "7bf0f0e42995efe4767549cbb7289084ca9269106150d550f3a3ac1b4214bc6f"
   }
  }
 },
 "nbformat": 4,
 "nbformat_minor": 2
}
