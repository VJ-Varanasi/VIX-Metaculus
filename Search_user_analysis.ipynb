{
 "cells": [
  {
   "cell_type": "code",
   "execution_count": 1,
   "metadata": {},
   "outputs": [],
   "source": [
    "from time import strftime\n",
    "import matplotlib.pyplot as plt\n",
    "import numpy as np\n",
    "import pandas as pd\n",
    "import glob\n",
    "from statsmodels.tsa.seasonal import seasonal_decompose\n",
    "from statsmodels.tsa.stattools import adfuller\n",
    "from pandas.plotting import autocorrelation_plot\n",
    "import datetime \n",
    "import re\n",
    "import matplotlib.ticker as ticker\n",
    "import matplotlib.dates as mdates\n",
    "from math import factorial\n",
    "from scipy.signal import savgol_filter\n",
    "from tabnanny import verbose\n",
    "import numpy as np\n",
    "import pandas as pd\n",
    "import glob\n",
    "import datetime \n",
    "from scipy import stats\n",
    "from sklearn.linear_model import Lasso\n",
    "import statsmodels.api as sm\n",
    "pd.options.mode.chained_assignment = None\n",
    "from fastdtw import fastdtw\n",
    "from scipy.spatial.distance import euclidean"
   ]
  },
  {
   "cell_type": "markdown",
   "metadata": {},
   "source": [
    "Defining Parameters"
   ]
  },
  {
   "cell_type": "code",
   "execution_count": 2,
   "metadata": {},
   "outputs": [],
   "source": [
    "return_scale = 1\n",
    "#Autocorrelation lags\n",
    "lags = 45\n",
    "lags_min = lags - lags\n",
    "start_date = \"2021-01-01\""
   ]
  },
  {
   "cell_type": "markdown",
   "metadata": {},
   "source": [
    "## VIX Data"
   ]
  },
  {
   "cell_type": "code",
   "execution_count": 3,
   "metadata": {},
   "outputs": [],
   "source": [
    "d1_name =\"Data/VIX_History*\"\n",
    "d1_filename = glob.glob(d1_name)[0]\n",
    "d1= pd.read_csv(d1_filename)\n",
    "d1[\"RETURNS\"] = d1[\"CLOSE\"] - d1[\"CLOSE\"].shift(return_scale)\n",
    "d1['DATE'] = pd.to_datetime(d1[\"DATE\"])\n",
    "d1 = d1.set_index(\"DATE\")\n",
    "d1=d1.dropna()"
   ]
  },
  {
   "cell_type": "code",
   "execution_count": 4,
   "metadata": {},
   "outputs": [],
   "source": [
    "d1_ret = d1[[\"RETURNS\"]]\n",
    "\n",
    "d1 = d1[[\"CLOSE\"]]\n"
   ]
  },
  {
   "cell_type": "markdown",
   "metadata": {},
   "source": [
    "## All User Data Processing"
   ]
  },
  {
   "cell_type": "markdown",
   "metadata": {},
   "source": [
    "Downloading Data"
   ]
  },
  {
   "cell_type": "code",
   "execution_count": 5,
   "metadata": {},
   "outputs": [],
   "source": [
    "partial_name = f'Data/Search_Metaculus*'\n",
    "filename = glob.glob(partial_name)[0]\n",
    "df= pd.read_csv(filename, parse_dates=['Time'], index_col = ['Time'])\n",
    "df= df[df['Users'] != 0]\n",
    "X= df.index\n",
    "\n",
    "\n"
   ]
  },
  {
   "cell_type": "markdown",
   "metadata": {},
   "source": [
    "Plotting New and Total Users over Time"
   ]
  },
  {
   "cell_type": "markdown",
   "metadata": {},
   "source": [
    "Resampling data to daily cadence"
   ]
  },
  {
   "cell_type": "code",
   "execution_count": 6,
   "metadata": {},
   "outputs": [
    {
     "data": {
      "text/html": [
       "<div>\n",
       "<style scoped>\n",
       "    .dataframe tbody tr th:only-of-type {\n",
       "        vertical-align: middle;\n",
       "    }\n",
       "\n",
       "    .dataframe tbody tr th {\n",
       "        vertical-align: top;\n",
       "    }\n",
       "\n",
       "    .dataframe thead th {\n",
       "        text-align: right;\n",
       "    }\n",
       "</style>\n",
       "<table border=\"1\" class=\"dataframe\">\n",
       "  <thead>\n",
       "    <tr style=\"text-align: right;\">\n",
       "      <th></th>\n",
       "      <th>Users</th>\n",
       "      <th>New Users</th>\n",
       "    </tr>\n",
       "    <tr>\n",
       "      <th>DATE</th>\n",
       "      <th></th>\n",
       "      <th></th>\n",
       "    </tr>\n",
       "  </thead>\n",
       "  <tbody>\n",
       "    <tr>\n",
       "      <th>2021-01-01</th>\n",
       "      <td>1232</td>\n",
       "      <td>898</td>\n",
       "    </tr>\n",
       "    <tr>\n",
       "      <th>2021-01-02</th>\n",
       "      <td>1151</td>\n",
       "      <td>833</td>\n",
       "    </tr>\n",
       "    <tr>\n",
       "      <th>2021-01-03</th>\n",
       "      <td>1088</td>\n",
       "      <td>773</td>\n",
       "    </tr>\n",
       "    <tr>\n",
       "      <th>2021-01-04</th>\n",
       "      <td>1106</td>\n",
       "      <td>778</td>\n",
       "    </tr>\n",
       "    <tr>\n",
       "      <th>2021-01-05</th>\n",
       "      <td>1073</td>\n",
       "      <td>765</td>\n",
       "    </tr>\n",
       "  </tbody>\n",
       "</table>\n",
       "</div>"
      ],
      "text/plain": [
       "            Users  New Users\n",
       "DATE                        \n",
       "2021-01-01   1232        898\n",
       "2021-01-02   1151        833\n",
       "2021-01-03   1088        773\n",
       "2021-01-04   1106        778\n",
       "2021-01-05   1073        765"
      ]
     },
     "execution_count": 6,
     "metadata": {},
     "output_type": "execute_result"
    }
   ],
   "source": [
    "df_daily = df.resample(\"1D\").sum()\n",
    "df_daily.index.rename(\"DATE\", inplace= True)\n",
    "df_daily=df_daily.loc[start_date:]\n",
    "df_daily.head()"
   ]
  },
  {
   "cell_type": "markdown",
   "metadata": {},
   "source": [
    "Calculating Returns"
   ]
  },
  {
   "cell_type": "code",
   "execution_count": 7,
   "metadata": {},
   "outputs": [
    {
     "data": {
      "text/html": [
       "<div>\n",
       "<style scoped>\n",
       "    .dataframe tbody tr th:only-of-type {\n",
       "        vertical-align: middle;\n",
       "    }\n",
       "\n",
       "    .dataframe tbody tr th {\n",
       "        vertical-align: top;\n",
       "    }\n",
       "\n",
       "    .dataframe thead th {\n",
       "        text-align: right;\n",
       "    }\n",
       "</style>\n",
       "<table border=\"1\" class=\"dataframe\">\n",
       "  <thead>\n",
       "    <tr style=\"text-align: right;\">\n",
       "      <th></th>\n",
       "      <th>Users</th>\n",
       "      <th>New Users</th>\n",
       "      <th>Users Returns</th>\n",
       "      <th>New Users Returns</th>\n",
       "    </tr>\n",
       "    <tr>\n",
       "      <th>DATE</th>\n",
       "      <th></th>\n",
       "      <th></th>\n",
       "      <th></th>\n",
       "      <th></th>\n",
       "    </tr>\n",
       "  </thead>\n",
       "  <tbody>\n",
       "    <tr>\n",
       "      <th>2021-01-03</th>\n",
       "      <td>1088</td>\n",
       "      <td>773</td>\n",
       "      <td>-60.0</td>\n",
       "      <td>5.0</td>\n",
       "    </tr>\n",
       "    <tr>\n",
       "      <th>2021-01-04</th>\n",
       "      <td>1106</td>\n",
       "      <td>778</td>\n",
       "      <td>5.0</td>\n",
       "      <td>65.0</td>\n",
       "    </tr>\n",
       "    <tr>\n",
       "      <th>2021-01-05</th>\n",
       "      <td>1073</td>\n",
       "      <td>765</td>\n",
       "      <td>-13.0</td>\n",
       "      <td>-18.0</td>\n",
       "    </tr>\n",
       "    <tr>\n",
       "      <th>2021-01-06</th>\n",
       "      <td>2306</td>\n",
       "      <td>1938</td>\n",
       "      <td>1173.0</td>\n",
       "      <td>1186.0</td>\n",
       "    </tr>\n",
       "    <tr>\n",
       "      <th>2021-01-07</th>\n",
       "      <td>2078</td>\n",
       "      <td>1586</td>\n",
       "      <td>-352.0</td>\n",
       "      <td>-1525.0</td>\n",
       "    </tr>\n",
       "  </tbody>\n",
       "</table>\n",
       "</div>"
      ],
      "text/plain": [
       "            Users  New Users  Users Returns  New Users Returns\n",
       "DATE                                                          \n",
       "2021-01-03   1088        773          -60.0                5.0\n",
       "2021-01-04   1106        778            5.0               65.0\n",
       "2021-01-05   1073        765          -13.0              -18.0\n",
       "2021-01-06   2306       1938         1173.0             1186.0\n",
       "2021-01-07   2078       1586         -352.0            -1525.0"
      ]
     },
     "execution_count": 7,
     "metadata": {},
     "output_type": "execute_result"
    }
   ],
   "source": [
    "j = 0\n",
    "for i in df_daily.columns:\n",
    "    col_title = i + \" Returns\"\n",
    "    df_daily[col_title] = df_daily.iloc[:,1 + j] - df_daily.iloc[:,1+ j].shift(return_scale)\n",
    "    j += 1\n",
    "\n",
    "df_daily = df_daily.dropna()\n",
    "df_daily.head()"
   ]
  },
  {
   "cell_type": "code",
   "execution_count": 8,
   "metadata": {},
   "outputs": [
    {
     "data": {
      "image/png": "[encoded data removed]",
      "text/plain": [
       "<Figure size 1000x800 with 2 Axes>"
      ]
     },
     "metadata": {},
     "output_type": "display_data"
    }
   ],
   "source": [
    "fig, axs = plt.subplots(2, figsize= (10, 8))\n",
    "\n",
    "fig.suptitle(\"Search Metaculus User Data\")\n",
    "for i in df_daily.columns:\n",
    "    if \"Returns\" in i:\n",
    "        axs[1].plot(df_daily.index,df_daily[i], label = i)\n",
    "    else:\n",
    "        axs[0].plot(df_daily.index,df_daily[i], label = i)\n",
    "\n",
    "axs[1].legend()\n",
    "axs[0].legend()\n",
    "\n",
    "plt.show()\n"
   ]
  },
  {
   "cell_type": "markdown",
   "metadata": {},
   "source": [
    "# Statistical Tests"
   ]
  },
  {
   "cell_type": "code",
   "execution_count": 9,
   "metadata": {},
   "outputs": [],
   "source": [
    "daily_users = df_daily.iloc[:,:2]\n",
    "daily_returns = df_daily.iloc[:,2:]\n",
    "\n",
    "df_total = d1.merge(daily_users, on=\"DATE\")\n",
    "df_returns= d1_ret.merge(daily_returns, on=\"DATE\")\n",
    "\n",
    "df_list = [df_total, df_returns]"
   ]
  },
  {
   "cell_type": "markdown",
   "metadata": {},
   "source": [
    "## Correlation Methods"
   ]
  },
  {
   "cell_type": "markdown",
   "metadata": {},
   "source": [
    "#### Pearson Correlation"
   ]
  },
  {
   "cell_type": "code",
   "execution_count": 10,
   "metadata": {},
   "outputs": [
    {
     "name": "stdout",
     "output_type": "stream",
     "text": [
      "CLOSE vs Users Correlation: 0.30749723350202496\n",
      "CLOSE vs New Users Correlation: 0.003992912405662641\n",
      "Users vs New Users Correlation: 0.8387833701457404\n",
      "--------------\n",
      "RETURNS vs Users Returns Correlation: 0.11535317318014485\n",
      "RETURNS vs New Users Returns Correlation: 0.07555816102327932\n",
      "Users Returns vs New Users Returns Correlation: 0.7664234001601016\n",
      "--------------\n"
     ]
    }
   ],
   "source": [
    "for i in df_list:\n",
    "    cols = i.columns.to_list()\n",
    "    corr_df = i.reset_index(drop=True).to_numpy()\n",
    "    corr_coef = np.corrcoef(corr_df, rowvar = False)\n",
    "    #print(corr_coef)\n",
    "    for i in range(len(cols)):\n",
    "        for j in range(i +1, len(cols)):\n",
    "            print(\"{} vs {} Correlation: {}\".format(cols[i], cols[j], corr_coef[i][j]))\n",
    "    print(\"--------------\")"
   ]
  },
  {
   "cell_type": "markdown",
   "metadata": {},
   "source": [
    "#### Spearman Correlation"
   ]
  },
  {
   "cell_type": "code",
   "execution_count": 11,
   "metadata": {},
   "outputs": [
    {
     "name": "stdout",
     "output_type": "stream",
     "text": [
      "CLOSE vs Users Correlation: 0.4315677804631455\n",
      "CLOSE vs New Users Correlation: 0.03896389300514279\n",
      "Users vs New Users Correlation: 0.7061000387933788\n",
      "--------------\n",
      "RETURNS vs Users Returns Correlation: 0.1364405227069146\n",
      "RETURNS vs New Users Returns Correlation: 0.10478486104277925\n",
      "Users Returns vs New Users Returns Correlation: 0.7566671845291189\n",
      "--------------\n"
     ]
    }
   ],
   "source": [
    "for i in df_list:\n",
    "    cols = i.columns.to_list()\n",
    "    corr_df = i.reset_index(drop=True).to_numpy()\n",
    "    corr_coef = stats.spearmanr(corr_df)[0]\n",
    "    for i in range(len(cols)):\n",
    "        for j in range(i +1, len(cols)):\n",
    "            print(\"{} vs {} Correlation: {}\".format(cols[i], cols[j], corr_coef[i][j]))\n",
    "    print(\"--------------\")"
   ]
  },
  {
   "cell_type": "markdown",
   "metadata": {},
   "source": [
    "#### Cross Correlation"
   ]
  },
  {
   "cell_type": "code",
   "execution_count": 12,
   "metadata": {},
   "outputs": [
    {
     "name": "stdout",
     "output_type": "stream",
     "text": [
      "CLOSE vs. Users\n",
      "Lag 446: 6.415050870882368\n",
      "Lag 445: 6.339922076338698\n",
      "Lag 444: 6.085460685399585\n",
      "Lag 447: 5.950050072250941\n",
      "Lag 443: 5.693889851315814\n",
      "\n",
      "CLOSE vs. New Users\n",
      "Lag 446: 7.6804337158230105\n",
      "Lag 445: 7.461329163070827\n",
      "Lag 447: 7.34385225559649\n",
      "Lag 444: 7.223026426160758\n",
      "Lag 443: 6.730242756487655\n",
      "\n",
      "--------------\n",
      "RETURNS vs. Users Returns\n",
      "Lag 447: 1.5484509557920623\n",
      "Lag 445: 1.314751793218343\n",
      "Lag 439: -1.2250335481464485\n",
      "Lag 437: 1.1638021294586396\n",
      "Lag 443: -0.886772927989339\n",
      "\n",
      "RETURNS vs. New Users Returns\n",
      "Lag 444: -1.27767547794075\n",
      "Lag 439: -1.159410421851103\n",
      "Lag 447: 1.1312370772109397\n",
      "Lag 438: 1.0689910465497587\n",
      "Lag 440: 0.7440435387207258\n",
      "\n",
      "--------------\n"
     ]
    }
   ],
   "source": [
    "for i in df_list:\n",
    "    cols = i.columns.to_list()\n",
    "    \n",
    "    for j in range(1,len(cols)):\n",
    "        cross_corr = sm.tsa.stattools.ccf(i[cols[0]],i[cols[j]] )\n",
    "        sorted_corr = sorted(np.abs(cross_corr), reverse = True) [0:5]\n",
    "        print(\"{} vs. {}\".format(cols[0], cols[j]))\n",
    "        for k in sorted_corr:\n",
    "            if k in cross_corr:\n",
    "                print(\"Lag {}: {}\".format(cross_corr.tolist().index(k), k))\n",
    "            else:\n",
    "                print(\"Lag {}: -{}\".format(cross_corr.tolist().index(-k), k))\n",
    "        print(\"\")\n",
    "        #print(\"{} vs {} Correlation: {}\".format(cols[i], cols[j], corr_coef[i][j]))\n",
    "    \n",
    "    print(\"--------------\")"
   ]
  },
  {
   "cell_type": "markdown",
   "metadata": {},
   "source": [
    "## Time Lagged LASSO Regression"
   ]
  },
  {
   "cell_type": "code",
   "execution_count": 13,
   "metadata": {},
   "outputs": [
    {
     "name": "stdout",
     "output_type": "stream",
     "text": [
      "CLOSE vs. Users\n",
      "alpha: 0.1\n",
      "                            OLS Regression Results                            \n",
      "==============================================================================\n",
      "Dep. Variable:                  CLOSE   R-squared:                       0.125\n",
      "Model:                            OLS   Adj. R-squared:                  0.116\n",
      "Method:                 Least Squares   F-statistic:                     14.29\n",
      "Date:                Sat, 26 Nov 2022   Prob (F-statistic):           6.43e-11\n",
      "Time:                        20:01:50   Log-Likelihood:                -1211.8\n",
      "No. Observations:                 406   AIC:                             2434.\n",
      "Df Residuals:                     401   BIC:                             2454.\n",
      "Df Model:                           4                                         \n",
      "Covariance Type:            nonrobust                                         \n",
      "==============================================================================\n",
      "                 coef    std err          t      P>|t|      [0.025      0.975]\n",
      "------------------------------------------------------------------------------\n",
      "const         22.2477      0.239     93.086      0.000      21.778      22.718\n",
      "Users          1.1192      0.447      2.502      0.013       0.240       1.999\n",
      "lag 1          0.2459      0.534      0.460      0.646      -0.804       1.296\n",
      "lag 2          0.1054      0.533      0.198      0.843      -0.942       1.153\n",
      "lag 3          0.4888      0.446      1.095      0.274      -0.389       1.366\n",
      "==============================================================================\n",
      "Omnibus:                        9.479   Durbin-Watson:                   0.153\n",
      "Prob(Omnibus):                  0.009   Jarque-Bera (JB):                8.782\n",
      "Skew:                           0.307   Prob(JB):                       0.0124\n",
      "Kurtosis:                       2.622   Cond. No.                         5.02\n",
      "==============================================================================\n",
      "\n",
      "Notes:\n",
      "[1] Standard Errors assume that the covariance matrix of the errors is correctly specified.\n",
      "2 Statistically Significant Lags\n",
      "-----------\n",
      "CLOSE vs. New Users\n",
      "alpha: 0.1\n",
      "                            OLS Regression Results                            \n",
      "==============================================================================\n",
      "Dep. Variable:                  CLOSE   R-squared:                       0.077\n",
      "Model:                            OLS   Adj. R-squared:                  0.041\n",
      "Method:                 Least Squares   F-statistic:                     2.167\n",
      "Date:                Sat, 26 Nov 2022   Prob (F-statistic):            0.00698\n",
      "Time:                        20:01:50   Log-Likelihood:                -1222.6\n",
      "No. Observations:                 406   AIC:                             2477.\n",
      "Df Residuals:                     390   BIC:                             2541.\n",
      "Df Model:                          15                                         \n",
      "Covariance Type:            nonrobust                                         \n",
      "==============================================================================\n",
      "                 coef    std err          t      P>|t|      [0.025      0.975]\n",
      "------------------------------------------------------------------------------\n",
      "const         22.2477      0.249     89.390      0.000      21.758      22.737\n",
      "lag 7         -0.1992      0.336     -0.592      0.554      -0.861       0.462\n",
      "lag 9         -0.2109      0.329     -0.640      0.523      -0.859       0.437\n",
      "lag 25        -0.2274      0.332     -0.685      0.494      -0.880       0.425\n",
      "lag 27        -0.1362      0.377     -0.361      0.718      -0.878       0.606\n",
      "lag 29        -0.1159      0.378     -0.307      0.759      -0.859       0.627\n",
      "lag 31        -0.1223      0.420     -0.291      0.771      -0.947       0.703\n",
      "lag 32        -0.0482      0.455     -0.106      0.916      -0.943       0.846\n",
      "lag 33        -0.1098      0.462     -0.238      0.812      -1.017       0.798\n",
      "lag 34        -0.0517      0.434     -0.119      0.905      -0.905       0.802\n",
      "lag 36        -0.0655      0.444     -0.148      0.883      -0.938       0.807\n",
      "lag 37        -0.2409      0.485     -0.497      0.619      -1.194       0.712\n",
      "lag 38        -0.1113      0.491     -0.226      0.821      -1.077       0.855\n",
      "lag 39        -0.0815      0.507     -0.161      0.872      -1.079       0.916\n",
      "lag 40        -0.0903      0.453     -0.199      0.842      -0.981       0.801\n",
      "lag 44        -0.2780      0.326     -0.854      0.394      -0.918       0.362\n",
      "==============================================================================\n",
      "Omnibus:                       28.038   Durbin-Watson:                   0.138\n",
      "Prob(Omnibus):                  0.000   Jarque-Bera (JB):               20.132\n",
      "Skew:                           0.435   Prob(JB):                     4.25e-05\n",
      "Kurtosis:                       2.342   Cond. No.                         6.91\n",
      "==============================================================================\n",
      "\n",
      "Notes:\n",
      "[1] Standard Errors assume that the covariance matrix of the errors is correctly specified.\n",
      "1 Statistically Significant Lags\n",
      "-----------\n",
      "RETURNS vs. Users Returns\n",
      "alpha: 0.1\n",
      "                            OLS Regression Results                            \n",
      "==============================================================================\n",
      "Dep. Variable:                RETURNS   R-squared:                       0.039\n",
      "Model:                            OLS   Adj. R-squared:                  0.034\n",
      "Method:                 Least Squares   F-statistic:                     8.176\n",
      "Date:                Sat, 26 Nov 2022   Prob (F-statistic):           0.000330\n",
      "Time:                        20:01:50   Log-Likelihood:                -813.54\n",
      "No. Observations:                 406   AIC:                             1633.\n",
      "Df Residuals:                     403   BIC:                             1645.\n",
      "Df Model:                           2                                         \n",
      "Covariance Type:            nonrobust                                         \n",
      "==============================================================================\n",
      "                 coef    std err          t      P>|t|      [0.025      0.975]\n",
      "------------------------------------------------------------------------------\n",
      "const          0.0172      0.089      0.192      0.848      -0.159       0.193\n",
      "lag 11         0.2542      0.090      2.833      0.005       0.078       0.431\n",
      "lag 17         0.2755      0.090      3.071      0.002       0.099       0.452\n",
      "==============================================================================\n",
      "Omnibus:                       72.892   Durbin-Watson:                   2.112\n",
      "Prob(Omnibus):                  0.000   Jarque-Bera (JB):              162.240\n",
      "Skew:                           0.928   Prob(JB):                     5.89e-36\n",
      "Kurtosis:                       5.480   Cond. No.                         1.07\n",
      "==============================================================================\n",
      "\n",
      "Notes:\n",
      "[1] Standard Errors assume that the covariance matrix of the errors is correctly specified.\n",
      "2 Statistically Significant Lags\n",
      "-----------\n",
      "RETURNS vs. New Users Returns\n",
      "alpha: 0.1\n",
      "                            OLS Regression Results                            \n",
      "==============================================================================\n",
      "Dep. Variable:                RETURNS   R-squared:                       0.034\n",
      "Model:                            OLS   Adj. R-squared:                  0.029\n",
      "Method:                 Least Squares   F-statistic:                     7.135\n",
      "Date:                Sat, 26 Nov 2022   Prob (F-statistic):           0.000902\n",
      "Time:                        20:01:50   Log-Likelihood:                -814.55\n",
      "No. Observations:                 406   AIC:                             1635.\n",
      "Df Residuals:                     403   BIC:                             1647.\n",
      "Df Model:                           2                                         \n",
      "Covariance Type:            nonrobust                                         \n",
      "==============================================================================\n",
      "                 coef    std err          t      P>|t|      [0.025      0.975]\n",
      "------------------------------------------------------------------------------\n",
      "const          0.0172      0.090      0.192      0.848      -0.159       0.193\n",
      "lag 10        -0.2322      0.090     -2.581      0.010      -0.409      -0.055\n",
      "lag 16        -0.2632      0.090     -2.927      0.004      -0.440      -0.086\n",
      "==============================================================================\n",
      "Omnibus:                       67.441   Durbin-Watson:                   2.109\n",
      "Prob(Omnibus):                  0.000   Jarque-Bera (JB):              158.007\n",
      "Skew:                           0.844   Prob(JB):                     4.89e-35\n",
      "Kurtosis:                       5.548   Cond. No.                         1.07\n",
      "==============================================================================\n",
      "\n",
      "Notes:\n",
      "[1] Standard Errors assume that the covariance matrix of the errors is correctly specified.\n",
      "2 Statistically Significant Lags\n",
      "-----------\n"
     ]
    }
   ],
   "source": [
    "for data in df_list:\n",
    "    for j in data.columns:\n",
    "        if j!= data.columns[0]:\n",
    "            print(\"{} vs. {}\".format(data.columns[0], j))\n",
    "            lag_data = data[[data.columns[0], j]]\n",
    "            for i in range(lags_min, lags):\n",
    "                lag_name = \"lag {}\".format(i)\n",
    "                lag_data[lag_name] = lag_data[j].shift(i)\n",
    "\n",
    "            lag_data = lag_data.dropna()\n",
    "\n",
    "            Y = lag_data[data.columns[0]]\n",
    "            X = lag_data.iloc[:,1:]\n",
    "\n",
    "            X_norm = X.copy()\n",
    "            for i in X.columns:    \n",
    "                X_norm[i] =(X[i] - X[i].mean()) / X[i].std() \n",
    "\n",
    "            Y_norm = (Y - Y.mean()) / Y.std() \n",
    "\n",
    "\n",
    "            alphas = np.geomspace(1e-3,1e-1, 20)\n",
    "            for i in alphas:\n",
    "                lassoreg = Lasso(alpha=i)\n",
    "                lassoreg.fit(X_norm,Y_norm)\n",
    "                coefs= lassoreg.coef_\n",
    "                if sum(coefs) != 0:\n",
    "                    alpha = i\n",
    "\n",
    "            print(\"alpha: {}\".format(alpha))\n",
    "            lassoreg = Lasso(alpha=alpha)\n",
    "            lassoreg.fit(X_norm,Y_norm)\n",
    "            coefs= lassoreg.coef_\n",
    "\n",
    "\n",
    "            lasso_df = X_norm.copy()\n",
    "            drop_list = []\n",
    "            for i in range(len(coefs)):\n",
    "                if coefs[i] == 0:\n",
    "                    drop_list.append(X_norm.columns[i])\n",
    "\n",
    "\n",
    "            lasso_df = lasso_df.drop(columns = drop_list)\n",
    "\n",
    "            lasso2 = sm.add_constant(lasso_df)\n",
    "            sparse_reg = sm.OLS(Y, lasso2)\n",
    "            sparse = sparse_reg.fit()\n",
    "            print(sparse.summary())\n",
    "            print(\"{} Statistically Significant Lags\".format(sum(sparse.pvalues < 0.05)))\n",
    "\n",
    "            print(\"-----------\")\n"
   ]
  },
  {
   "cell_type": "markdown",
   "metadata": {},
   "source": [
    "## Granger Causality F-Tests"
   ]
  },
  {
   "cell_type": "code",
   "execution_count": 14,
   "metadata": {},
   "outputs": [
    {
     "name": "stdout",
     "output_type": "stream",
     "text": [
      "CLOSE vs. Users\n",
      "Lag 16: 0.15045922857011215\n",
      "Lag 15: 0.1598496752747996\n",
      "Lag 20: 0.15972619972137794\n",
      "Lag 18: 0.17845299943180565\n",
      "Lag 19: 0.21331600581163046\n",
      "\n",
      "CLOSE vs. New Users\n",
      "Lag 15: 0.03184338458345048\n",
      "Lag 16: 0.034513481603375445\n",
      "Lag 14: 0.0920462808258119\n",
      "Lag 20: 0.08325347078986547\n",
      "Lag 11: 0.1498953728082241\n",
      "\n",
      "----------\n",
      "RETURNS vs. Users Returns\n",
      "Lag 15: 0.015304153855745644\n",
      "Lag 14: 0.020253377504086716\n",
      "Lag 16: 0.022848589189372073\n",
      "Lag 11: 0.0755648609443718\n",
      "Lag 13: 0.09119242228785339\n",
      "\n",
      "RETURNS vs. New Users Returns\n",
      "Lag 15: 0.008896049772427679\n",
      "Lag 14: 0.01099065601830336\n",
      "Lag 13: 0.015685380080300584\n",
      "Lag 16: 0.011181178590739515\n",
      "Lag 10: 0.055354809635386\n",
      "\n",
      "----------\n"
     ]
    }
   ],
   "source": [
    "for data in df_list:\n",
    "    x_col = data.columns[0]\n",
    "\n",
    "    adf1 = sm.tsa.stattools.adfuller(data[x_col], autolag='AIC')[1]\n",
    "    if adf1 >= 0.05:\n",
    "        print(\"All {} Timeseries are not Stationary\".format(x_col))\n",
    "    else:\n",
    "        for j in data.columns:\n",
    "            if j!= x_col:\n",
    "                adf2 = sm.tsa.stattools.adfuller(data[j], autolag='AIC')[1]\n",
    "\n",
    "                if adf2 < 0.05:\n",
    "                    granger = sm.tsa.stattools.grangercausalitytests(data[[x_col,j]], lags, verbose= False)\n",
    "                    print( \"{} vs. {}\".format(x_col, j))\n",
    "                else:\n",
    "                    print(\"{} Timeseries are not Stationary\".format(j))\n",
    "\n",
    "                ftests=[]\n",
    "                pvals = []\n",
    "                for i in range(lags):\n",
    "                    ftests.append(granger[i+1][0]['ssr_ftest'][0])\n",
    "                    pvals.append(granger[i+1][0]['ssr_ftest'][1])\n",
    "\n",
    "                sort_ftest = sorted(ftests,reverse = True) [0:5]\n",
    "\n",
    "                for i in sort_ftest:\n",
    "                    ind = ftests.index(i)\n",
    "                    print(\"Lag {}: {}\".format(ind +1, pvals[ind]))\n",
    "                print(\"\")\n",
    "    print(\"----------\")"
   ]
  },
  {
   "cell_type": "markdown",
   "metadata": {},
   "source": [
    "## Dynamic Time Wrapping"
   ]
  },
  {
   "cell_type": "code",
   "execution_count": 15,
   "metadata": {},
   "outputs": [
    {
     "name": "stdout",
     "output_type": "stream",
     "text": [
      "CLOSE vs. Users\n",
      "Distance: 217.58011602015787\n",
      "Average Distance: 0.4835113689336842\n",
      "\n",
      "CLOSE vs. New Users\n",
      "Distance: 299.1155149924905\n",
      "Average Distance: 0.6647011444277566\n",
      "\n",
      "----------\n",
      "RETURNS vs. Users Returns\n",
      "Distance: 313.2748847665945\n",
      "Average Distance: 0.6961664105924322\n",
      "\n",
      "RETURNS vs. New Users Returns\n",
      "Distance: 336.5918087288004\n",
      "Average Distance: 0.747981797175112\n",
      "\n",
      "----------\n"
     ]
    }
   ],
   "source": [
    "for data in df_list:\n",
    "    x_col = data.columns[0]\n",
    "\n",
    "    dtw1 = (data[x_col] - data[x_col].mean())/data[x_col].std() \n",
    "    for j in data.columns:\n",
    "        #print(j)\n",
    "        if j!= x_col:\n",
    "            dtw2 = (data[j] - data[j].mean())/data[j].std() \n",
    "            print( \"{} vs. {}\".format(x_col, j))\n",
    "\n",
    "            distance, path = fastdtw( dtw1,dtw2, dist=euclidean)\n",
    "            print(\"Distance: {}\".format(distance))\n",
    "            print(\"Average Distance: {}\".format(distance/len(dtw2)))\n",
    "            print(\"\")\n",
    "    print(\"----------\")"
   ]
  }
 ],
 "metadata": {
  "kernelspec": {
   "display_name": "Python 3.8.8 ('venv-3.8-pAhcsra2')",
   "language": "python",
   "name": "python3"
  },
  "language_info": {
   "codemirror_mode": {
    "name": "ipython",
    "version": 3
   },
   "file_extension": ".py",
   "mimetype": "text/x-python",
   "name": "python",
   "nbconvert_exporter": "python",
   "pygments_lexer": "ipython3",
   "version": "3.8.8"
  },
  "orig_nbformat": 4,
  "vscode": {
   "interpreter": {
    "hash": "7bf0f0e42995efe4767549cbb7289084ca9269106150d550f3a3ac1b4214bc6f"
   }
  }
 },
 "nbformat": 4,
 "nbformat_minor": 2
}
