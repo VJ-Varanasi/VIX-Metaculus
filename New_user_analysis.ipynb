{
 "cells": [
  {
   "cell_type": "code",
   "execution_count": 21,
   "metadata": {},
   "outputs": [],
   "source": [
    "from time import strftime\n",
    "import matplotlib.pyplot as plt\n",
    "import numpy as np\n",
    "import pandas as pd\n",
    "import glob\n",
    "from statsmodels.tsa.seasonal import seasonal_decompose\n",
    "from statsmodels.tsa.stattools import adfuller\n",
    "from pandas.plotting import autocorrelation_plot\n",
    "import datetime \n",
    "import re\n",
    "import matplotlib.ticker as ticker\n",
    "import matplotlib.dates as mdates\n",
    "from math import factorial\n",
    "from scipy.signal import savgol_filter\n",
    "from tabnanny import verbose\n",
    "import numpy as np\n",
    "import pandas as pd\n",
    "import glob\n",
    "import datetime \n",
    "from scipy import stats\n",
    "from sklearn.linear_model import Lasso\n",
    "import statsmodels.api as sm\n",
    "pd.options.mode.chained_assignment = None\n",
    "from fastdtw import fastdtw\n",
    "from scipy.spatial.distance import euclidean"
   ]
  },
  {
   "cell_type": "markdown",
   "metadata": {},
   "source": [
    "Defining Parameters"
   ]
  },
  {
   "cell_type": "code",
   "execution_count": 22,
   "metadata": {},
   "outputs": [],
   "source": [
    "return_scale = 1\n",
    "#Autocorrelation lags\n",
    "lags = 45\n",
    "lags_min = lags - lags\n",
    "start_date = \"2021-01-01\""
   ]
  },
  {
   "cell_type": "markdown",
   "metadata": {},
   "source": [
    "## VIX Data"
   ]
  },
  {
   "cell_type": "code",
   "execution_count": 23,
   "metadata": {},
   "outputs": [],
   "source": [
    "d1_name =\"Data/VIX_History*\"\n",
    "d1_filename = glob.glob(d1_name)[0]\n",
    "d1= pd.read_csv(d1_filename)\n",
    "d1[\"RETURNS\"] = d1[\"CLOSE\"] - d1[\"CLOSE\"].shift(return_scale)\n",
    "d1['DATE'] = pd.to_datetime(d1[\"DATE\"])\n",
    "d1 = d1.set_index(\"DATE\")\n",
    "d1=d1.dropna()"
   ]
  },
  {
   "cell_type": "code",
   "execution_count": 24,
   "metadata": {},
   "outputs": [],
   "source": [
    "d1_ret = d1[[\"RETURNS\"]]\n",
    "\n",
    "d1 = d1[[\"CLOSE\"]]\n"
   ]
  },
  {
   "cell_type": "markdown",
   "metadata": {},
   "source": [
    "## New User Data Processing"
   ]
  },
  {
   "cell_type": "markdown",
   "metadata": {},
   "source": [
    "Downloading Data"
   ]
  },
  {
   "cell_type": "code",
   "execution_count": 25,
   "metadata": {},
   "outputs": [],
   "source": [
    "partial_name = f'Data/New_Metaculus*'\n",
    "filename = glob.glob(partial_name)[0]\n",
    "df= pd.read_csv(filename, parse_dates=['Time'], index_col = ['Time'])\n",
    "df= df[df['Users'] != 0]\n",
    "X= df.index\n",
    "\n",
    "\n"
   ]
  },
  {
   "cell_type": "markdown",
   "metadata": {},
   "source": [
    "Plotting New and Total Users over Time"
   ]
  },
  {
   "cell_type": "markdown",
   "metadata": {},
   "source": [
    "Resampling data to daily cadence"
   ]
  },
  {
   "cell_type": "code",
   "execution_count": 26,
   "metadata": {},
   "outputs": [
    {
     "data": {
      "text/html": [
       "<div>\n",
       "<style scoped>\n",
       "    .dataframe tbody tr th:only-of-type {\n",
       "        vertical-align: middle;\n",
       "    }\n",
       "\n",
       "    .dataframe tbody tr th {\n",
       "        vertical-align: top;\n",
       "    }\n",
       "\n",
       "    .dataframe thead th {\n",
       "        text-align: right;\n",
       "    }\n",
       "</style>\n",
       "<table border=\"1\" class=\"dataframe\">\n",
       "  <thead>\n",
       "    <tr style=\"text-align: right;\">\n",
       "      <th></th>\n",
       "      <th>Users</th>\n",
       "      <th>New Users</th>\n",
       "    </tr>\n",
       "    <tr>\n",
       "      <th>DATE</th>\n",
       "      <th></th>\n",
       "      <th></th>\n",
       "    </tr>\n",
       "  </thead>\n",
       "  <tbody>\n",
       "    <tr>\n",
       "      <th>2021-01-01</th>\n",
       "      <td>1146</td>\n",
       "      <td>1116</td>\n",
       "    </tr>\n",
       "    <tr>\n",
       "      <th>2021-01-02</th>\n",
       "      <td>1328</td>\n",
       "      <td>1298</td>\n",
       "    </tr>\n",
       "    <tr>\n",
       "      <th>2021-01-03</th>\n",
       "      <td>1042</td>\n",
       "      <td>1008</td>\n",
       "    </tr>\n",
       "    <tr>\n",
       "      <th>2021-01-04</th>\n",
       "      <td>953</td>\n",
       "      <td>937</td>\n",
       "    </tr>\n",
       "    <tr>\n",
       "      <th>2021-01-05</th>\n",
       "      <td>1120</td>\n",
       "      <td>1091</td>\n",
       "    </tr>\n",
       "  </tbody>\n",
       "</table>\n",
       "</div>"
      ],
      "text/plain": [
       "            Users  New Users\n",
       "DATE                        \n",
       "2021-01-01   1146       1116\n",
       "2021-01-02   1328       1298\n",
       "2021-01-03   1042       1008\n",
       "2021-01-04    953        937\n",
       "2021-01-05   1120       1091"
      ]
     },
     "execution_count": 26,
     "metadata": {},
     "output_type": "execute_result"
    }
   ],
   "source": [
    "df_daily = df.resample(\"1D\").sum()\n",
    "df_daily.index.rename(\"DATE\", inplace= True)\n",
    "df_daily=df_daily.loc[start_date:]\n",
    "df_daily.head()"
   ]
  },
  {
   "cell_type": "markdown",
   "metadata": {},
   "source": [
    "Calculating Returns"
   ]
  },
  {
   "cell_type": "code",
   "execution_count": 27,
   "metadata": {},
   "outputs": [
    {
     "data": {
      "text/html": [
       "<div>\n",
       "<style scoped>\n",
       "    .dataframe tbody tr th:only-of-type {\n",
       "        vertical-align: middle;\n",
       "    }\n",
       "\n",
       "    .dataframe tbody tr th {\n",
       "        vertical-align: top;\n",
       "    }\n",
       "\n",
       "    .dataframe thead th {\n",
       "        text-align: right;\n",
       "    }\n",
       "</style>\n",
       "<table border=\"1\" class=\"dataframe\">\n",
       "  <thead>\n",
       "    <tr style=\"text-align: right;\">\n",
       "      <th></th>\n",
       "      <th>Users</th>\n",
       "      <th>New Users</th>\n",
       "      <th>Users Returns</th>\n",
       "      <th>New Users Returns</th>\n",
       "    </tr>\n",
       "    <tr>\n",
       "      <th>DATE</th>\n",
       "      <th></th>\n",
       "      <th></th>\n",
       "      <th></th>\n",
       "      <th></th>\n",
       "    </tr>\n",
       "  </thead>\n",
       "  <tbody>\n",
       "    <tr>\n",
       "      <th>2021-01-03</th>\n",
       "      <td>1042</td>\n",
       "      <td>1008</td>\n",
       "      <td>-290.0</td>\n",
       "      <td>-472.0</td>\n",
       "    </tr>\n",
       "    <tr>\n",
       "      <th>2021-01-04</th>\n",
       "      <td>953</td>\n",
       "      <td>937</td>\n",
       "      <td>-71.0</td>\n",
       "      <td>219.0</td>\n",
       "    </tr>\n",
       "    <tr>\n",
       "      <th>2021-01-05</th>\n",
       "      <td>1120</td>\n",
       "      <td>1091</td>\n",
       "      <td>154.0</td>\n",
       "      <td>225.0</td>\n",
       "    </tr>\n",
       "    <tr>\n",
       "      <th>2021-01-06</th>\n",
       "      <td>2236</td>\n",
       "      <td>2216</td>\n",
       "      <td>1125.0</td>\n",
       "      <td>971.0</td>\n",
       "    </tr>\n",
       "    <tr>\n",
       "      <th>2021-01-07</th>\n",
       "      <td>2163</td>\n",
       "      <td>2110</td>\n",
       "      <td>-106.0</td>\n",
       "      <td>-1231.0</td>\n",
       "    </tr>\n",
       "  </tbody>\n",
       "</table>\n",
       "</div>"
      ],
      "text/plain": [
       "            Users  New Users  Users Returns  New Users Returns\n",
       "DATE                                                          \n",
       "2021-01-03   1042       1008         -290.0             -472.0\n",
       "2021-01-04    953        937          -71.0              219.0\n",
       "2021-01-05   1120       1091          154.0              225.0\n",
       "2021-01-06   2236       2216         1125.0              971.0\n",
       "2021-01-07   2163       2110         -106.0            -1231.0"
      ]
     },
     "execution_count": 27,
     "metadata": {},
     "output_type": "execute_result"
    }
   ],
   "source": [
    "j = 0\n",
    "for i in df_daily.columns:\n",
    "    col_title = i + \" Returns\"\n",
    "    df_daily[col_title] = df_daily.iloc[:,1 + j] - df_daily.iloc[:,1+ j].shift(return_scale)\n",
    "    j += 1\n",
    "\n",
    "df_daily = df_daily.dropna()\n",
    "df_daily.head()"
   ]
  },
  {
   "cell_type": "code",
   "execution_count": 28,
   "metadata": {},
   "outputs": [
    {
     "data": {
      "image/png": "[encoded data removed]",
      "text/plain": [
       "<Figure size 1000x800 with 2 Axes>"
      ]
     },
     "metadata": {},
     "output_type": "display_data"
    }
   ],
   "source": [
    "fig, axs = plt.subplots(2, figsize= (10, 8))\n",
    "\n",
    "fig.suptitle(\"New Metaculus User Data\")\n",
    "for i in df_daily.columns:\n",
    "    if \"Returns\" in i:\n",
    "        axs[1].plot(df_daily.index,df_daily[i], label = i)\n",
    "    else:\n",
    "        axs[0].plot(df_daily.index,df_daily[i], label = i)\n",
    "\n",
    "axs[1].legend()\n",
    "axs[0].legend()\n",
    "\n",
    "plt.show()\n"
   ]
  },
  {
   "cell_type": "markdown",
   "metadata": {},
   "source": [
    "# Statistical Tests"
   ]
  },
  {
   "cell_type": "code",
   "execution_count": 29,
   "metadata": {},
   "outputs": [],
   "source": [
    "daily_users = df_daily.iloc[:,:2]\n",
    "daily_returns = df_daily.iloc[:,2:]\n",
    "\n",
    "df_total = d1.merge(daily_users, on=\"DATE\")\n",
    "df_returns= d1_ret.merge(daily_returns, on=\"DATE\")\n",
    "\n",
    "df_list = [df_total, df_returns]"
   ]
  },
  {
   "cell_type": "markdown",
   "metadata": {},
   "source": [
    "## Correlation Methods"
   ]
  },
  {
   "cell_type": "markdown",
   "metadata": {},
   "source": [
    "#### Pearson Correlation"
   ]
  },
  {
   "cell_type": "code",
   "execution_count": 30,
   "metadata": {},
   "outputs": [
    {
     "name": "stdout",
     "output_type": "stream",
     "text": [
      "CLOSE vs Users Correlation: 0.38282005779724065\n",
      "CLOSE vs New Users Correlation: 0.3787665117090719\n",
      "Users vs New Users Correlation: 0.9998427070430056\n",
      "--------------\n",
      "RETURNS vs Users Returns Correlation: 0.051830114751555904\n",
      "RETURNS vs New Users Returns Correlation: 0.048378796904964876\n",
      "Users Returns vs New Users Returns Correlation: 0.8130533255608132\n",
      "--------------\n"
     ]
    }
   ],
   "source": [
    "for i in df_list:\n",
    "    cols = i.columns.to_list()\n",
    "    corr_df = i.reset_index(drop=True).to_numpy()\n",
    "    corr_coef = np.corrcoef(corr_df, rowvar = False)\n",
    "    #print(corr_coef)\n",
    "    for i in range(len(cols)):\n",
    "        for j in range(i +1, len(cols)):\n",
    "            print(\"{} vs {} Correlation: {}\".format(cols[i], cols[j], corr_coef[i][j]))\n",
    "    print(\"--------------\")"
   ]
  },
  {
   "cell_type": "markdown",
   "metadata": {},
   "source": [
    "#### Spearman Correlation"
   ]
  },
  {
   "cell_type": "code",
   "execution_count": 31,
   "metadata": {},
   "outputs": [
    {
     "name": "stdout",
     "output_type": "stream",
     "text": [
      "CLOSE vs Users Correlation: 0.4982583179533441\n",
      "CLOSE vs New Users Correlation: 0.4916899805095903\n",
      "Users vs New Users Correlation: 0.999476997813375\n",
      "--------------\n",
      "RETURNS vs Users Returns Correlation: 0.0845496117031175\n",
      "RETURNS vs New Users Returns Correlation: 0.09492438886824885\n",
      "Users Returns vs New Users Returns Correlation: 0.7410481457652586\n",
      "--------------\n"
     ]
    }
   ],
   "source": [
    "for i in df_list:\n",
    "    cols = i.columns.to_list()\n",
    "    corr_df = i.reset_index(drop=True).to_numpy()\n",
    "    corr_coef = stats.spearmanr(corr_df)[0]\n",
    "    for i in range(len(cols)):\n",
    "        for j in range(i +1, len(cols)):\n",
    "            print(\"{} vs {} Correlation: {}\".format(cols[i], cols[j], corr_coef[i][j]))\n",
    "    print(\"--------------\")"
   ]
  },
  {
   "cell_type": "markdown",
   "metadata": {},
   "source": [
    "#### Cross Correlation"
   ]
  },
  {
   "cell_type": "code",
   "execution_count": 32,
   "metadata": {},
   "outputs": [
    {
     "name": "stdout",
     "output_type": "stream",
     "text": [
      "CLOSE vs. Users\n",
      "Lag 445: 2.4984649965387473\n",
      "Lag 446: 2.4179196665709264\n",
      "Lag 444: 2.3387224856358078\n",
      "Lag 443: 2.040776868094514\n",
      "Lag 447: 1.9784073939756426\n",
      "\n",
      "CLOSE vs. New Users\n",
      "Lag 445: 2.5359995815509055\n",
      "Lag 446: 2.45229674992273\n",
      "Lag 444: 2.382934027985925\n",
      "Lag 443: 2.080742975950333\n",
      "Lag 447: 2.0285875233986883\n",
      "\n",
      "--------------\n",
      "RETURNS vs. Users Returns\n",
      "Lag 445: 0.39302808358771946\n",
      "Lag 447: 0.3868122809739777\n",
      "Lag 437: 0.3395657679435292\n",
      "Lag 443: -0.3029831809236698\n",
      "Lag 439: -0.30267258978251627\n",
      "\n",
      "RETURNS vs. New Users Returns\n",
      "Lag 444: -0.35838199715264274\n",
      "Lag 447: 0.3578899497460407\n",
      "Lag 438: 0.2981354830709514\n",
      "Lag 439: -0.20550616915216627\n",
      "Lag 425: 0.18507472368302041\n",
      "\n",
      "--------------\n"
     ]
    }
   ],
   "source": [
    "for i in df_list:\n",
    "    cols = i.columns.to_list()\n",
    "    \n",
    "    for j in range(1,len(cols)):\n",
    "        cross_corr = sm.tsa.stattools.ccf(i[cols[0]],i[cols[j]] )\n",
    "        sorted_corr = sorted(np.abs(cross_corr), reverse = True) [0:5]\n",
    "        print(\"{} vs. {}\".format(cols[0], cols[j]))\n",
    "        for k in sorted_corr:\n",
    "            if k in cross_corr:\n",
    "                print(\"Lag {}: {}\".format(cross_corr.tolist().index(k), k))\n",
    "            else:\n",
    "                print(\"Lag {}: -{}\".format(cross_corr.tolist().index(-k), k))\n",
    "        print(\"\")\n",
    "        #print(\"{} vs {} Correlation: {}\".format(cols[i], cols[j], corr_coef[i][j]))\n",
    "    \n",
    "    print(\"--------------\")"
   ]
  },
  {
   "cell_type": "markdown",
   "metadata": {},
   "source": [
    "## Time Lagged LASSO Regression"
   ]
  },
  {
   "cell_type": "code",
   "execution_count": 33,
   "metadata": {},
   "outputs": [
    {
     "name": "stdout",
     "output_type": "stream",
     "text": [
      "CLOSE vs. Users\n",
      "alpha: 0.1\n",
      "                            OLS Regression Results                            \n",
      "==============================================================================\n",
      "Dep. Variable:                  CLOSE   R-squared:                       0.422\n",
      "Model:                            OLS   Adj. R-squared:                  0.387\n",
      "Method:                 Least Squares   F-statistic:                     12.13\n",
      "Date:                Sat, 26 Nov 2022   Prob (F-statistic):           4.23e-33\n",
      "Time:                        20:01:29   Log-Likelihood:                -1127.5\n",
      "No. Observations:                 406   AIC:                             2303.\n",
      "Df Residuals:                     382   BIC:                             2399.\n",
      "Df Model:                          23                                         \n",
      "Covariance Type:            nonrobust                                         \n",
      "==============================================================================\n",
      "                 coef    std err          t      P>|t|      [0.025      0.975]\n",
      "------------------------------------------------------------------------------\n",
      "const         22.2477      0.199    111.807      0.000      21.856      22.639\n",
      "Users          0.6911      0.288      2.398      0.017       0.124       1.258\n",
      "lag 1          0.1920      0.316      0.608      0.544      -0.429       0.813\n",
      "lag 2          0.1849      0.312      0.592      0.554      -0.429       0.799\n",
      "lag 3          0.2624      0.315      0.832      0.406      -0.358       0.882\n",
      "lag 4          0.3327      0.288      1.156      0.248      -0.233       0.898\n",
      "lag 11         0.2288      0.290      0.790      0.430      -0.341       0.798\n",
      "lag 12         0.0631      0.320      0.197      0.844      -0.567       0.693\n",
      "lag 13         0.1468      0.314      0.467      0.641      -0.472       0.765\n",
      "lag 14         0.0385      0.316      0.122      0.903      -0.583       0.660\n",
      "lag 15         0.1406      0.314      0.447      0.655      -0.477       0.759\n",
      "lag 16         0.1194      0.316      0.378      0.706      -0.502       0.741\n",
      "lag 17         0.2083      0.287      0.725      0.469      -0.357       0.773\n",
      "lag 32         0.2670      0.284      0.941      0.347      -0.291       0.825\n",
      "lag 33         0.1161      0.312      0.373      0.710      -0.497       0.729\n",
      "lag 34         0.4452      0.296      1.507      0.133      -0.136       1.026\n",
      "lag 37         0.2431      0.302      0.805      0.421      -0.350       0.836\n",
      "lag 38         0.3462      0.320      1.081      0.281      -0.284       0.976\n",
      "lag 39         0.0807      0.320      0.252      0.801      -0.549       0.711\n",
      "lag 40         0.0795      0.316      0.252      0.801      -0.541       0.700\n",
      "lag 41         0.4031      0.318      1.266      0.206      -0.223       1.029\n",
      "lag 42         0.3690      0.322      1.147      0.252      -0.264       1.002\n",
      "lag 43         0.3963      0.323      1.226      0.221      -0.239       1.032\n",
      "lag 44         0.4035      0.292      1.380      0.169      -0.172       0.979\n",
      "==============================================================================\n",
      "Omnibus:                       24.274   Durbin-Watson:                   0.215\n",
      "Prob(Omnibus):                  0.000   Jarque-Bera (JB):               27.424\n",
      "Skew:                           0.636   Prob(JB):                     1.11e-06\n",
      "Kurtosis:                       3.037   Cond. No.                         6.19\n",
      "==============================================================================\n",
      "\n",
      "Notes:\n",
      "[1] Standard Errors assume that the covariance matrix of the errors is correctly specified.\n",
      "2 Statistically Significant Lags\n",
      "-----------\n",
      "CLOSE vs. New Users\n",
      "alpha: 0.1\n",
      "                            OLS Regression Results                            \n",
      "==============================================================================\n",
      "Dep. Variable:                  CLOSE   R-squared:                       0.417\n",
      "Model:                            OLS   Adj. R-squared:                  0.382\n",
      "Method:                 Least Squares   F-statistic:                     11.86\n",
      "Date:                Sat, 26 Nov 2022   Prob (F-statistic):           2.19e-32\n",
      "Time:                        20:01:29   Log-Likelihood:                -1129.4\n",
      "No. Observations:                 406   AIC:                             2307.\n",
      "Df Residuals:                     382   BIC:                             2403.\n",
      "Df Model:                          23                                         \n",
      "Covariance Type:            nonrobust                                         \n",
      "==============================================================================\n",
      "                 coef    std err          t      P>|t|      [0.025      0.975]\n",
      "------------------------------------------------------------------------------\n",
      "const         22.2477      0.200    111.287      0.000      21.855      22.641\n",
      "New Users      0.6906      0.288      2.396      0.017       0.124       1.257\n",
      "lag 1          0.1851      0.316      0.586      0.558      -0.436       0.807\n",
      "lag 2          0.1814      0.313      0.580      0.562      -0.433       0.796\n",
      "lag 3          0.2634      0.316      0.834      0.405      -0.357       0.884\n",
      "lag 4          0.3301      0.288      1.147      0.252      -0.236       0.896\n",
      "lag 11         0.2306      0.290      0.795      0.427      -0.340       0.801\n",
      "lag 12         0.0649      0.321      0.202      0.840      -0.566       0.696\n",
      "lag 13         0.1475      0.315      0.468      0.640      -0.472       0.767\n",
      "lag 14         0.0413      0.316      0.130      0.896      -0.581       0.663\n",
      "lag 15         0.1458      0.314      0.464      0.643      -0.472       0.764\n",
      "lag 16         0.1154      0.317      0.364      0.716      -0.507       0.738\n",
      "lag 17         0.2101      0.288      0.730      0.466      -0.356       0.776\n",
      "lag 32         0.2657      0.284      0.935      0.350      -0.293       0.824\n",
      "lag 33         0.1145      0.313      0.366      0.714      -0.500       0.729\n",
      "lag 34         0.4487      0.296      1.517      0.130      -0.133       1.030\n",
      "lag 37         0.2485      0.302      0.822      0.411      -0.346       0.843\n",
      "lag 38         0.3435      0.321      1.069      0.286      -0.288       0.975\n",
      "lag 39         0.0794      0.321      0.247      0.805      -0.552       0.711\n",
      "lag 40         0.0821      0.316      0.260      0.795      -0.539       0.704\n",
      "lag 41         0.4046      0.319      1.269      0.205      -0.222       1.031\n",
      "lag 42         0.3601      0.323      1.116      0.265      -0.274       0.994\n",
      "lag 43         0.3924      0.324      1.211      0.227      -0.245       1.030\n",
      "lag 44         0.4047      0.293      1.381      0.168      -0.171       0.981\n",
      "==============================================================================\n",
      "Omnibus:                       23.945   Durbin-Watson:                   0.213\n",
      "Prob(Omnibus):                  0.000   Jarque-Bera (JB):               27.034\n",
      "Skew:                           0.632   Prob(JB):                     1.35e-06\n",
      "Kurtosis:                       3.018   Cond. No.                         6.15\n",
      "==============================================================================\n",
      "\n",
      "Notes:\n",
      "[1] Standard Errors assume that the covariance matrix of the errors is correctly specified.\n",
      "2 Statistically Significant Lags\n",
      "-----------\n",
      "RETURNS vs. Users Returns\n",
      "alpha: 0.1\n",
      "                            OLS Regression Results                            \n",
      "==============================================================================\n",
      "Dep. Variable:                RETURNS   R-squared:                       0.050\n",
      "Model:                            OLS   Adj. R-squared:                  0.043\n",
      "Method:                 Least Squares   F-statistic:                     7.123\n",
      "Date:                Sat, 26 Nov 2022   Prob (F-statistic):           0.000113\n",
      "Time:                        20:01:30   Log-Likelihood:                -811.10\n",
      "No. Observations:                 406   AIC:                             1630.\n",
      "Df Residuals:                     402   BIC:                             1646.\n",
      "Df Model:                           3                                         \n",
      "Covariance Type:            nonrobust                                         \n",
      "==============================================================================\n",
      "                 coef    std err          t      P>|t|      [0.025      0.975]\n",
      "------------------------------------------------------------------------------\n",
      "const          0.0172      0.089      0.193      0.847      -0.158       0.192\n",
      "lag 19        -0.1932      0.089     -2.165      0.031      -0.369      -0.018\n",
      "lag 34         0.2493      0.090      2.783      0.006       0.073       0.425\n",
      "lag 36        -0.2343      0.090     -2.613      0.009      -0.411      -0.058\n",
      "==============================================================================\n",
      "Omnibus:                       78.563   Durbin-Watson:                   2.112\n",
      "Prob(Omnibus):                  0.000   Jarque-Bera (JB):              229.055\n",
      "Skew:                           0.896   Prob(JB):                     1.83e-50\n",
      "Kurtosis:                       6.214   Cond. No.                         1.12\n",
      "==============================================================================\n",
      "\n",
      "Notes:\n",
      "[1] Standard Errors assume that the covariance matrix of the errors is correctly specified.\n",
      "3 Statistically Significant Lags\n",
      "-----------\n",
      "RETURNS vs. New Users Returns\n",
      "alpha: 0.1\n",
      "                            OLS Regression Results                            \n",
      "==============================================================================\n",
      "Dep. Variable:                RETURNS   R-squared:                       0.037\n",
      "Model:                            OLS   Adj. R-squared:                  0.032\n",
      "Method:                 Least Squares   F-statistic:                     7.646\n",
      "Date:                Sat, 26 Nov 2022   Prob (F-statistic):           0.000550\n",
      "Time:                        20:01:30   Log-Likelihood:                -814.06\n",
      "No. Observations:                 406   AIC:                             1634.\n",
      "Df Residuals:                     403   BIC:                             1646.\n",
      "Df Model:                           2                                         \n",
      "Covariance Type:            nonrobust                                         \n",
      "==============================================================================\n",
      "                 coef    std err          t      P>|t|      [0.025      0.975]\n",
      "------------------------------------------------------------------------------\n",
      "const          0.0172      0.090      0.192      0.848      -0.159       0.193\n",
      "lag 33        -0.1970      0.090     -2.196      0.029      -0.373      -0.021\n",
      "lag 36        -0.2805      0.090     -3.126      0.002      -0.457      -0.104\n",
      "==============================================================================\n",
      "Omnibus:                       71.489   Durbin-Watson:                   2.110\n",
      "Prob(Omnibus):                  0.000   Jarque-Bera (JB):              197.037\n",
      "Skew:                           0.834   Prob(JB):                     1.64e-43\n",
      "Kurtosis:                       5.977   Cond. No.                         1.05\n",
      "==============================================================================\n",
      "\n",
      "Notes:\n",
      "[1] Standard Errors assume that the covariance matrix of the errors is correctly specified.\n",
      "2 Statistically Significant Lags\n",
      "-----------\n"
     ]
    }
   ],
   "source": [
    "for data in df_list:\n",
    "    for j in data.columns:\n",
    "        if j!= data.columns[0]:\n",
    "            print(\"{} vs. {}\".format(data.columns[0], j))\n",
    "            lag_data = data[[data.columns[0], j]]\n",
    "            for i in range(lags_min, lags):\n",
    "                lag_name = \"lag {}\".format(i)\n",
    "                lag_data[lag_name] = lag_data[j].shift(i)\n",
    "\n",
    "            lag_data = lag_data.dropna()\n",
    "\n",
    "            Y = lag_data[data.columns[0]]\n",
    "            X = lag_data.iloc[:,1:]\n",
    "\n",
    "            X_norm = X.copy()\n",
    "            for i in X.columns:    \n",
    "                X_norm[i] =(X[i] - X[i].mean()) / X[i].std() \n",
    "\n",
    "            Y_norm = (Y - Y.mean()) / Y.std() \n",
    "\n",
    "\n",
    "            alphas = np.geomspace(1e-3,1e-1, 20)\n",
    "            for i in alphas:\n",
    "                lassoreg = Lasso(alpha=i)\n",
    "                lassoreg.fit(X_norm,Y_norm)\n",
    "                coefs= lassoreg.coef_\n",
    "                if sum(coefs) != 0:\n",
    "                    alpha = i\n",
    "\n",
    "            print(\"alpha: {}\".format(alpha))\n",
    "            lassoreg = Lasso(alpha=alpha)\n",
    "            lassoreg.fit(X_norm,Y_norm)\n",
    "            coefs= lassoreg.coef_\n",
    "\n",
    "\n",
    "            lasso_df = X_norm.copy()\n",
    "            drop_list = []\n",
    "            for i in range(len(coefs)):\n",
    "                if coefs[i] == 0:\n",
    "                    drop_list.append(X_norm.columns[i])\n",
    "\n",
    "\n",
    "            lasso_df = lasso_df.drop(columns = drop_list)\n",
    "\n",
    "            lasso2 = sm.add_constant(lasso_df)\n",
    "            sparse_reg = sm.OLS(Y, lasso2)\n",
    "            sparse = sparse_reg.fit()\n",
    "            print(sparse.summary())\n",
    "            print(\"{} Statistically Significant Lags\".format(sum(sparse.pvalues < 0.05)))\n",
    "\n",
    "            print(\"-----------\")\n"
   ]
  },
  {
   "cell_type": "markdown",
   "metadata": {},
   "source": [
    "## Granger Causality F-Tests"
   ]
  },
  {
   "cell_type": "code",
   "execution_count": 34,
   "metadata": {},
   "outputs": [
    {
     "name": "stdout",
     "output_type": "stream",
     "text": [
      "CLOSE vs. Users\n",
      "Lag 3: 0.09731247695791638\n",
      "Lag 5: 0.15427250840203946\n",
      "Lag 4: 0.18112146209743527\n",
      "Lag 6: 0.1799870522584767\n",
      "Lag 41: 0.03606129824981186\n",
      "\n",
      "CLOSE vs. New Users\n",
      "Lag 3: 0.0990224074721457\n",
      "Lag 5: 0.15568451546467138\n",
      "Lag 4: 0.1854648734052959\n",
      "Lag 6: 0.18083781030273854\n",
      "Lag 41: 0.03469767320005727\n",
      "\n",
      "----------\n",
      "RETURNS vs. Users Returns\n",
      "Lag 38: 0.022766460145018153\n",
      "Lag 43: 0.0182038951972347\n",
      "Lag 39: 0.027075215859069947\n",
      "Lag 40: 0.028301994769876933\n",
      "Lag 41: 0.028744906178747184\n",
      "\n",
      "RETURNS vs. New Users Returns\n",
      "Lag 2: 0.2494338569131808\n",
      "Lag 39: 0.11233373326674818\n",
      "Lag 40: 0.11805865591474762\n",
      "Lag 37: 0.13733967003295006\n",
      "Lag 42: 0.14040639991152523\n",
      "\n",
      "----------\n"
     ]
    }
   ],
   "source": [
    "for data in df_list:\n",
    "    x_col = data.columns[0]\n",
    "\n",
    "    adf1 = sm.tsa.stattools.adfuller(data[x_col], autolag='AIC')[1]\n",
    "    if adf1 >= 0.05:\n",
    "        print(\"All {} Timeseries are not Stationary\".format(x_col))\n",
    "    else:\n",
    "        for j in data.columns:\n",
    "            if j!= x_col:\n",
    "                adf2 = sm.tsa.stattools.adfuller(data[j], autolag='AIC')[1]\n",
    "\n",
    "                if adf2 < 0.05:\n",
    "                    granger = sm.tsa.stattools.grangercausalitytests(data[[x_col,j]], lags, verbose= False)\n",
    "                    print( \"{} vs. {}\".format(x_col, j))\n",
    "                else:\n",
    "                    print(\"{} Timeseries are not Stationary\".format(j))\n",
    "\n",
    "                ftests=[]\n",
    "                pvals = []\n",
    "                for i in range(lags):\n",
    "                    ftests.append(granger[i+1][0]['ssr_ftest'][0])\n",
    "                    pvals.append(granger[i+1][0]['ssr_ftest'][1])\n",
    "\n",
    "                sort_ftest = sorted(ftests,reverse = True) [0:5]\n",
    "\n",
    "                for i in sort_ftest:\n",
    "                    ind = ftests.index(i)\n",
    "                    print(\"Lag {}: {}\".format(ind +1, pvals[ind]))\n",
    "                print(\"\")\n",
    "    print(\"----------\")"
   ]
  },
  {
   "cell_type": "markdown",
   "metadata": {},
   "source": [
    "## Dynamic Time Wrapping"
   ]
  },
  {
   "cell_type": "code",
   "execution_count": 35,
   "metadata": {},
   "outputs": [
    {
     "name": "stdout",
     "output_type": "stream",
     "text": [
      "CLOSE vs. Users\n",
      "Distance: 194.59050690807197\n",
      "Average Distance: 0.43242334868460436\n",
      "\n",
      "CLOSE vs. New Users\n",
      "Distance: 193.1623160698694\n",
      "Average Distance: 0.42924959126637646\n",
      "\n",
      "----------\n",
      "RETURNS vs. Users Returns\n",
      "Distance: 308.59386458206563\n",
      "Average Distance: 0.6857641435157014\n",
      "\n",
      "RETURNS vs. New Users Returns\n",
      "Distance: 349.0121204457662\n",
      "Average Distance: 0.7755824898794804\n",
      "\n",
      "----------\n"
     ]
    }
   ],
   "source": [
    "for data in df_list:\n",
    "    x_col = data.columns[0]\n",
    "\n",
    "    dtw1 = (data[x_col] - data[x_col].mean())/data[x_col].std() \n",
    "    for j in data.columns:\n",
    "        #print(j)\n",
    "        if j!= x_col:\n",
    "            dtw2 = (data[j] - data[j].mean())/data[j].std() \n",
    "            print( \"{} vs. {}\".format(x_col, j))\n",
    "\n",
    "            distance, path = fastdtw( dtw1,dtw2, dist=euclidean)\n",
    "            print(\"Distance: {}\".format(distance))\n",
    "            print(\"Average Distance: {}\".format(distance/len(dtw2)))\n",
    "            print(\"\")\n",
    "    print(\"----------\")"
   ]
  }
 ],
 "metadata": {
  "kernelspec": {
   "display_name": "Python 3.8.8 ('venv-3.8-pAhcsra2')",
   "language": "python",
   "name": "python3"
  },
  "language_info": {
   "codemirror_mode": {
    "name": "ipython",
    "version": 3
   },
   "file_extension": ".py",
   "mimetype": "text/x-python",
   "name": "python",
   "nbconvert_exporter": "python",
   "pygments_lexer": "ipython3",
   "version": "3.8.8"
  },
  "orig_nbformat": 4,
  "vscode": {
   "interpreter": {
    "hash": "7bf0f0e42995efe4767549cbb7289084ca9269106150d550f3a3ac1b4214bc6f"
   }
  }
 },
 "nbformat": 4,
 "nbformat_minor": 2
}
